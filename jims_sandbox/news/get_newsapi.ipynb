{
 "cells": [
  {
   "cell_type": "code",
   "execution_count": 2,
   "metadata": {},
   "outputs": [],
   "source": [
    "import os\n",
    "import csv\n",
    "import time\n",
    "import json\n",
    "from datetime import timedelta, date\n",
    "from config import newsapi_key\n",
    "from pathlib import Path\n",
    "from newsapi import NewsApiClient"
   ]
  },
  {
   "cell_type": "code",
   "execution_count": 3,
   "metadata": {},
   "outputs": [],
   "source": [
    "# print(newsapi_key)"
   ]
  },
  {
   "cell_type": "code",
   "execution_count": 4,
   "metadata": {},
   "outputs": [],
   "source": [
    "# Install newsou-python module into environment\n",
    "# $ pip install newsapi-python\n",
    "\n",
    "# Usage\n",
    "# from newsapi import NewsApiClient"
   ]
  },
  {
   "cell_type": "code",
   "execution_count": 5,
   "metadata": {},
   "outputs": [],
   "source": [
    "# Init newspai client\n",
    "newsapi = NewsApiClient(api_key=newsapi_key)"
   ]
  },
  {
   "cell_type": "code",
   "execution_count": 6,
   "metadata": {},
   "outputs": [
    {
     "name": "stdout",
     "output_type": "stream",
     "text": [
      "<newsapi.newsapi_client.NewsApiClient object at 0x00000180F4123710>\n"
     ]
    }
   ],
   "source": [
    "print(newsapi)"
   ]
  },
  {
   "cell_type": "code",
   "execution_count": 7,
   "metadata": {},
   "outputs": [],
   "source": [
    "sources_to_check = [\n",
    "                    'bbc-news', \n",
    "                    'bloomberg', \n",
    "                    'breitbart-news', \n",
    "                    'cnn', \n",
    "                    'cbs-news',\n",
    "                    \"the-washington-post\", \n",
    "                    'the-wall-street-journal',\n",
    "                    'the-huffington-post',\n",
    "                    'reuters',\n",
    "                    'politico', \n",
    "                    'newsweek',\n",
    "                    'new-scientist',\n",
    "                    'national-geographic',\n",
    "                    'medical-news-today',\n",
    "                    'business-insider',\n",
    "                    'al-jazeera-english',\n",
    "#                     'abc-news',\n",
    "#                     'nbc-news',\n",
    "#                     'national-review',\n",
    "#                     'the-hill',\n",
    "#                     \"the-globe-and-mail\",\n",
    "#                     'fox-news',\n",
    "#                     'msnbc',\n",
    "#                     'Fortune',\n",
    "#                     'cnbc',\n",
    "#                     'google-news' \n",
    "                    ]"
   ]
  },
  {
   "cell_type": "code",
   "execution_count": 12,
   "metadata": {},
   "outputs": [
    {
     "name": "stdout",
     "output_type": "stream",
     "text": [
      "['2020-02-16', '2020-02-17', '2020-02-18', '2020-02-19', '2020-02-20', '2020-02-21', '2020-02-22', '2020-02-23', '2020-02-24']\n"
     ]
    }
   ],
   "source": [
    "# create a range of dates to query for news.\n",
    "def daterange(date1, date2):\n",
    "    for n in range(int ((date2 - date1).days)+1):\n",
    "        yield date1 + timedelta(n)\n",
    "\n",
    "start_dt = date(2020, 2, 16)\n",
    "end_dt = date(2020, 2, 24)\n",
    "dateList = []\n",
    "for dt in daterange(start_dt, end_dt):\n",
    "    dateList.append(dt.strftime(\"%Y-%m-%d\"))\n",
    "    \n",
    "print(dateList)"
   ]
  },
  {
   "cell_type": "code",
   "execution_count": 13,
   "metadata": {
    "scrolled": true
   },
   "outputs": [
    {
     "name": "stdout",
     "output_type": "stream",
     "text": [
      "['bbc-news', 'bloomberg', 'breitbart-news', 'cnn', 'cbs-news', 'the-washington-post', 'the-wall-street-journal', 'the-huffington-post', 'reuters', 'politico', 'newsweek', 'new-scientist', 'national-geographic', 'medical-news-today', 'business-insider', 'al-jazeera-english']\n"
     ]
    }
   ],
   "source": [
    "# mySources = sources_to_check[2:]\n",
    "# print(mySources)\n",
    "mySources = sources_to_check\n",
    "print(mySources)"
   ]
  },
  {
   "cell_type": "code",
   "execution_count": 14,
   "metadata": {},
   "outputs": [
    {
     "name": "stdout",
     "output_type": "stream",
     "text": [
      "Scraping news from bbc-news_2020-02-16.json\n",
      "Scraping news from bloomberg_2020-02-16.json\n",
      "Scraping news from breitbart-news_2020-02-16.json\n",
      "Scraping news from cnn_2020-02-16.json\n",
      "Scraping news from cbs-news_2020-02-16.json\n",
      "Scraping news from the-washington-post_2020-02-16.json\n",
      "Scraping news from the-wall-street-journal_2020-02-16.json\n",
      "Scraping news from the-huffington-post_2020-02-16.json\n",
      "Scraping news from reuters_2020-02-16.json\n",
      "Scraping news from politico_2020-02-16.json\n",
      "Scraping news from newsweek_2020-02-16.json\n",
      "Scraping news from new-scientist_2020-02-16.json\n",
      "Scraping news from national-geographic_2020-02-16.json\n",
      "Scraping news from medical-news-today_2020-02-16.json\n",
      "Scraping news from business-insider_2020-02-16.json\n",
      "Scraping news from al-jazeera-english_2020-02-16.json\n",
      "Scraping news from bbc-news_2020-02-17.json\n",
      "Scraping news from bloomberg_2020-02-17.json\n",
      "Scraping news from breitbart-news_2020-02-17.json\n",
      "Scraping news from cnn_2020-02-17.json\n",
      "Scraping news from cbs-news_2020-02-17.json\n",
      "Scraping news from the-washington-post_2020-02-17.json\n",
      "Scraping news from the-wall-street-journal_2020-02-17.json\n",
      "Scraping news from the-huffington-post_2020-02-17.json\n",
      "Scraping news from reuters_2020-02-17.json\n",
      "Scraping news from politico_2020-02-17.json\n",
      "Scraping news from newsweek_2020-02-17.json\n",
      "Scraping news from new-scientist_2020-02-17.json\n",
      "Scraping news from national-geographic_2020-02-17.json\n",
      "Scraping news from medical-news-today_2020-02-17.json\n",
      "Scraping news from business-insider_2020-02-17.json\n",
      "Scraping news from al-jazeera-english_2020-02-17.json\n",
      "Scraping news from bbc-news_2020-02-18.json\n",
      "Scraping news from bloomberg_2020-02-18.json\n",
      "Scraping news from breitbart-news_2020-02-18.json\n",
      "Scraping news from cnn_2020-02-18.json\n",
      "Scraping news from cbs-news_2020-02-18.json\n",
      "Scraping news from the-washington-post_2020-02-18.json\n",
      "Scraping news from the-wall-street-journal_2020-02-18.json\n",
      "Scraping news from the-huffington-post_2020-02-18.json\n",
      "Scraping news from reuters_2020-02-18.json\n",
      "Scraping news from politico_2020-02-18.json\n",
      "Scraping news from newsweek_2020-02-18.json\n",
      "Scraping news from new-scientist_2020-02-18.json\n",
      "Scraping news from national-geographic_2020-02-18.json\n",
      "Scraping news from medical-news-today_2020-02-18.json\n",
      "Scraping news from business-insider_2020-02-18.json\n",
      "Scraping news from al-jazeera-english_2020-02-18.json\n",
      "Scraping news from bbc-news_2020-02-19.json\n",
      "Scraping news from bloomberg_2020-02-19.json\n",
      "Scraping news from breitbart-news_2020-02-19.json\n",
      "Scraping news from cnn_2020-02-19.json\n",
      "Scraping news from cbs-news_2020-02-19.json\n",
      "Scraping news from the-washington-post_2020-02-19.json\n",
      "Scraping news from the-wall-street-journal_2020-02-19.json\n",
      "Scraping news from the-huffington-post_2020-02-19.json\n",
      "Scraping news from reuters_2020-02-19.json\n",
      "Scraping news from politico_2020-02-19.json\n",
      "Scraping news from newsweek_2020-02-19.json\n",
      "Scraping news from new-scientist_2020-02-19.json\n",
      "Scraping news from national-geographic_2020-02-19.json\n",
      "Scraping news from medical-news-today_2020-02-19.json\n",
      "Scraping news from business-insider_2020-02-19.json\n",
      "Scraping news from al-jazeera-english_2020-02-19.json\n",
      "Scraping news from bbc-news_2020-02-20.json\n",
      "Scraping news from bloomberg_2020-02-20.json\n",
      "Scraping news from breitbart-news_2020-02-20.json\n",
      "Scraping news from cnn_2020-02-20.json\n",
      "Scraping news from cbs-news_2020-02-20.json\n",
      "Scraping news from the-washington-post_2020-02-20.json\n",
      "Scraping news from the-wall-street-journal_2020-02-20.json\n",
      "Scraping news from the-huffington-post_2020-02-20.json\n",
      "Scraping news from reuters_2020-02-20.json\n",
      "Scraping news from politico_2020-02-20.json\n",
      "Scraping news from newsweek_2020-02-20.json\n",
      "Scraping news from new-scientist_2020-02-20.json\n",
      "Scraping news from national-geographic_2020-02-20.json\n",
      "Scraping news from medical-news-today_2020-02-20.json\n",
      "Scraping news from business-insider_2020-02-20.json\n",
      "Scraping news from al-jazeera-english_2020-02-20.json\n",
      "Scraping news from bbc-news_2020-02-21.json\n",
      "Scraping news from bloomberg_2020-02-21.json\n",
      "Scraping news from breitbart-news_2020-02-21.json\n",
      "Scraping news from cnn_2020-02-21.json\n",
      "Scraping news from cbs-news_2020-02-21.json\n",
      "Scraping news from the-washington-post_2020-02-21.json\n",
      "Scraping news from the-wall-street-journal_2020-02-21.json\n",
      "Scraping news from the-huffington-post_2020-02-21.json\n",
      "Scraping news from reuters_2020-02-21.json\n",
      "Scraping news from politico_2020-02-21.json\n",
      "Scraping news from newsweek_2020-02-21.json\n",
      "Scraping news from new-scientist_2020-02-21.json\n",
      "Scraping news from national-geographic_2020-02-21.json\n",
      "Scraping news from medical-news-today_2020-02-21.json\n",
      "Scraping news from business-insider_2020-02-21.json\n",
      "Scraping news from al-jazeera-english_2020-02-21.json\n",
      "Scraping news from bbc-news_2020-02-22.json\n",
      "Scraping news from bloomberg_2020-02-22.json\n",
      "Scraping news from breitbart-news_2020-02-22.json\n",
      "Scraping news from cnn_2020-02-22.json\n",
      "Scraping news from cbs-news_2020-02-22.json\n",
      "Scraping news from the-washington-post_2020-02-22.json\n",
      "Scraping news from the-wall-street-journal_2020-02-22.json\n",
      "Scraping news from the-huffington-post_2020-02-22.json\n",
      "Scraping news from reuters_2020-02-22.json\n",
      "Scraping news from politico_2020-02-22.json\n",
      "Scraping news from newsweek_2020-02-22.json\n",
      "Scraping news from new-scientist_2020-02-22.json\n",
      "Scraping news from national-geographic_2020-02-22.json\n",
      "Scraping news from medical-news-today_2020-02-22.json\n",
      "Scraping news from business-insider_2020-02-22.json\n",
      "Scraping news from al-jazeera-english_2020-02-22.json\n",
      "Scraping news from bbc-news_2020-02-23.json\n",
      "Scraping news from bloomberg_2020-02-23.json\n",
      "Scraping news from breitbart-news_2020-02-23.json\n",
      "Scraping news from cnn_2020-02-23.json\n",
      "Scraping news from cbs-news_2020-02-23.json\n",
      "Scraping news from the-washington-post_2020-02-23.json\n",
      "Scraping news from the-wall-street-journal_2020-02-23.json\n",
      "Scraping news from the-huffington-post_2020-02-23.json\n",
      "Scraping news from reuters_2020-02-23.json\n",
      "Scraping news from politico_2020-02-23.json\n",
      "Scraping news from newsweek_2020-02-23.json\n",
      "Scraping news from new-scientist_2020-02-23.json\n",
      "Scraping news from national-geographic_2020-02-23.json\n",
      "Scraping news from medical-news-today_2020-02-23.json\n",
      "Scraping news from business-insider_2020-02-23.json\n",
      "Scraping news from al-jazeera-english_2020-02-23.json\n",
      "Scraping news from bbc-news_2020-02-24.json\n",
      "Scraping news from bloomberg_2020-02-24.json\n",
      "Scraping news from breitbart-news_2020-02-24.json\n",
      "Scraping news from cnn_2020-02-24.json\n",
      "Scraping news from cbs-news_2020-02-24.json\n",
      "Scraping news from the-washington-post_2020-02-24.json\n",
      "Scraping news from the-wall-street-journal_2020-02-24.json\n",
      "Scraping news from the-huffington-post_2020-02-24.json\n",
      "Scraping news from reuters_2020-02-24.json\n",
      "Scraping news from politico_2020-02-24.json\n",
      "Scraping news from newsweek_2020-02-24.json\n",
      "Scraping news from new-scientist_2020-02-24.json\n",
      "Scraping news from national-geographic_2020-02-24.json\n",
      "Scraping news from medical-news-today_2020-02-24.json\n",
      "Scraping news from business-insider_2020-02-24.json\n",
      "Scraping news from al-jazeera-english_2020-02-24.json\n"
     ]
    }
   ],
   "source": [
    "# Iterate News API by Date and then by News Source.  \n",
    "# Create News files for newsSource + date\n",
    "basePath = \"./static/news\"\n",
    "Path(basePath).mkdir(parents=True, exist_ok=True)\n",
    "\n",
    "for myDate in dateList:\n",
    "    dirPath = basePath + \"/\" + myDate\n",
    "    Path(dirPath).mkdir(parents=True, exist_ok=True)\n",
    "    \n",
    "    for source in mySources:\n",
    "        filename = f\"{source}_{myDate}.json\"\n",
    "        filepath = dirPath + \"/\" + filename\n",
    "        print(f\"Scraping news from {filename}\")\n",
    "        \n",
    "        scraped_news = newsapi.get_everything(q='coronavirus',\n",
    "                                          sources=source,\n",
    "                                          from_param=myDate,\n",
    "                                          to=myDate,\n",
    "                                          language='en',\n",
    "                                          sort_by='popularity',\n",
    "                                          page_size=100)\n",
    "\n",
    "\n",
    "        with open(filepath, \"w\") as outfile:\n",
    "            json.dump(scraped_news, outfile, indent=4)\n"
   ]
  },
  {
   "cell_type": "code",
   "execution_count": 25,
   "metadata": {
    "scrolled": true
   },
   "outputs": [],
   "source": [
    "# First Attempt\n",
    "# Iterate newsapi by news Source and then by date\n",
    "# grab news files for news source _ date\n",
    "\n",
    "# basePath = \"./static/news\"\n",
    "# Path(basePath).mkdir(parents=True, exist_ok=True)\n",
    "\n",
    "# for source in mySources:\n",
    "#     dirPath = basePath + \"/\" + source\n",
    "#     Path(dirPath).mkdir(parents=True, exist_ok=True)\n",
    "    \n",
    "#     for myDate in dateList:\n",
    "#         filename = f\"{source}_{myDate}.json\"\n",
    "#         filepath = dirPath + \"/\" + filename\n",
    "#         print(f\"Scraping news from {filename}\")\n",
    "        \n",
    "#         scraped_news = newsapi.get_everything(q='coronavirus',\n",
    "#                                           sources=source,\n",
    "#                                           from_param=myDate,\n",
    "#                                           to=myDate,\n",
    "#                                           language='en',\n",
    "#                                           sort_by='publishedAt',\n",
    "#                                           page_size=100)\n",
    "\n",
    "\n",
    "#         with open(filepath, \"w\") as outfile:\n",
    "#             json.dump(filepath, outfile, indent=4)\n"
   ]
  },
  {
   "cell_type": "code",
   "execution_count": 47,
   "metadata": {},
   "outputs": [
    {
     "name": "stdout",
     "output_type": "stream",
     "text": [
      "{'status': 'ok', 'totalResults': 20, 'articles': [{'source': {'id': 'bbc-news', 'name': 'BBC News'}, 'author': 'https://www.facebook.com/bbcnews', 'title': 'Chinese diasporas on edge over coronavirus', 'description': 'Chinese overseas are concerned for their own health and that of their families back home.', 'url': 'https://www.bbc.co.uk/news/51245373', 'urlToImage': 'https://ichef.bbci.co.uk/news/1024/branded_news/17B00/production/_110642079_gettyimages-1195417045.jpg', 'publishedAt': '2020-01-24T23:33:38Z', 'content': 'Image copyrightGetty ImagesImage caption\\r\\n China marks lunar New Year in the shadow of virus outbreak\\r\\nHours after the first case of coronavirus was confirmed in the US, surgical masks began selling out at the pharmacies in Seattle, where a resident recently … [+4129 chars]'}, {'source': {'id': 'bbc-news', 'name': 'BBC News'}, 'author': 'https://www.facebook.com/bbcnews', 'title': 'Six maps and graphics to explain the outbreak', 'description': 'Six maps and graphics explaining how the respiratory virus has spread and how it is being dealt with.', 'url': 'https://www.bbc.co.uk/news/world-51235105', 'urlToImage': 'https://ichef.bbci.co.uk/news/1024/branded_news/E68F/production/_110632095_gettyimages-1195416978.jpg', 'publishedAt': '2020-01-24T22:13:18Z', 'content': 'Image copyrightGetty ImagesImage caption\\r\\n Residents in some areas, including this police officer standing in front of an advertising billboard, have been told to wear facemasks\\r\\nA new respiratory virus first detected in the Chinese city of Wuhan has infected… [+6746 chars]'}, {'source': {'id': 'bbc-news', 'name': 'BBC News'}, 'author': 'https://www.facebook.com/bbcnews', 'title': 'Coronavirus: How is the Chinese city under lockdown coping with the outbreak?', 'description': 'There has been criticism that authorities were too slow to respond and contain the virus.', 'url': 'https://www.bbc.co.uk/news/world-asia-51224504', 'urlToImage': 'https://ichef.bbci.co.uk/news/1024/branded_news/185F9/production/_110633899_gettyimages-1195348191.jpg', 'publishedAt': '2020-01-24T16:27:09Z', 'content': \"Image copyrightGetty ImagesImage caption\\r\\n Outbound trains in Wuhan have been stopped\\r\\nThere have been widely-shared reports on social media and some state-run services that healthcare services in Wuhan - one of China's largest cities - are under strain follo… [+4481 chars]\"}, {'source': {'id': 'bbc-news', 'name': 'BBC News'}, 'author': 'https://www.facebook.com/bbcnews', 'title': 'Second coronavirus case confirmed in the US', 'description': 'The woman felt symptoms after returned home to Chicago from Wuhan, where the outbreak began.', 'url': 'https://www.bbc.co.uk/news/world-us-canada-51213188', 'urlToImage': 'https://ichef.bbci.co.uk/news/1024/branded_news/107FF/production/_110638576_gettyimages-1201641468.jpg', 'publishedAt': '2020-01-24T15:42:15Z', 'content': 'Image copyrightGetty ImagesImage caption\\r\\n In China, the virus has put millions of people on mandatory lockdown\\r\\nA second person in the US has been diagnosed with the coronavirus, the US Centers for Disease Control and Prevention (CDC) has announced.\\r\\nThe pat… [+310 chars]'}, {'source': {'id': 'bbc-news', 'name': 'BBC News'}, 'author': 'https://www.facebook.com/bbcnews', 'title': 'China coronavirus: Five tested in Scotland given all-clear', 'description': 'The patients were tested for coronavirus as a precaution after returning from China with respiratory problems.', 'url': 'https://www.bbc.co.uk/news/uk-scotland-51241245', 'urlToImage': 'https://ichef.bbci.co.uk/news/1024/branded_news/695D/production/_110637962_mediaitem110637960.jpg', 'publishedAt': '2020-01-24T15:34:33Z', 'content': 'Image copyrightEPAImage caption\\r\\n People are taking precautions against the virus around the world\\r\\nFive people being tested for coronavirus in Scotland have been given the all-clear.\\r\\nThe chief medical officer for England confirmed that all 14 people tested … [+398 chars]'}, {'source': {'id': 'bbc-news', 'name': 'BBC News'}, 'author': 'https://www.facebook.com/bbcnews', 'title': 'China coronavirus: Lunar New Year subdued as outbreak spreads', 'description': 'Travel restrictions are being expanded in parts of China, as millions go home for the holidays.', 'url': 'https://www.bbc.co.uk/news/world-asia-china-51240355', 'urlToImage': 'https://ichef.bbci.co.uk/images/ic/1024x576/p08197nl.png', 'publishedAt': '2020-01-24T15:19:33Z', 'content': \"Media playback is unsupported on your device\\r\\nMedia captionWhat's life like in quarantined Wuhan?\\r\\nChina is marking the Lunar New Year, one of the most important dates in its calendar, while concerns grow about the coronavirus outbreak.\\r\\nAs millions go home f… [+4881 chars]\"}, {'source': {'id': 'bbc-news', 'name': 'BBC News'}, 'author': None, 'title': \"WHO says it's too early to declare a global epidemic\", 'description': 'Coronavirus in China has killed 26 people and infected more than 800; In Iraq, tens of thousands of people march to demand the removal of US troops; There are fears about huge swarms of locusts in East Africa which are destroying crops:', 'url': 'https://www.bbc.co.uk/programmes/p0819kvr', 'urlToImage': 'https://ichef.bbci.co.uk/images/ic/1200x675/p07zqpb8.jpg', 'publishedAt': '2020-01-24T15:16:00Z', 'content': 'Coronavirus in China has killed 26 people and infected more than 800; In Iraq, tens of thousands of people march to demand the removal of US troops; There are fears about huge swarms of locusts in East Africa which are destroying crops:'}, {'source': {'id': 'bbc-news', 'name': 'BBC News'}, 'author': 'https://www.facebook.com/bbcnews', 'title': \"'We've got enough food and water to last 10 days'\", 'description': 'Chinese nationals in Wuhan on the hopes and fears during life in a locked-down city of 11 million.', 'url': 'https://www.bbc.co.uk/news/world-asia-china-51236450', 'urlToImage': 'https://ichef.bbci.co.uk/news/1024/branded_news/11899/production/_110633817_059398759-1.jpg', 'publishedAt': '2020-01-24T12:39:10Z', 'content': 'Image copyrightReutersImage caption\\r\\n Police have been inspecting vehicles at toll stations outside Wuhan, China\\r\\nWhat is life like for those from the Chinese city at the centre of the coronavirus outbreak?\\r\\nBBC Chinese has been talking to the locals still li… [+3029 chars]'}, {'source': {'id': 'bbc-news', 'name': 'BBC News'}, 'author': 'BBC News', 'title': 'Coronavirus: World Health Organisation on China response', 'description': 'The Western Pacific regional director says the country now has “stronger capacity” to deal with infectious outbreaks.', 'url': 'https://www.bbc.co.uk/news/av/world-51237005/coronavirus-world-health-organisation-on-china-response', 'urlToImage': 'https://ichef.bbci.co.uk/news/1024/branded_news/11C1D/production/_110633727_p0818nlw.jpg', 'publishedAt': '2020-01-24T11:44:22Z', 'content': None}, {'source': {'id': 'bbc-news', 'name': 'BBC News'}, 'author': 'https://www.facebook.com/bbcnews', 'title': 'Coronavirus: British artist given all clear after China return', 'description': 'Michael Hope developed \"a nasty cough\" on returning to Newcastle from Wuhan where he worked.', 'url': 'https://www.bbc.co.uk/news/uk-england-51233915', 'urlToImage': 'https://ichef.bbci.co.uk/news/1024/branded_news/490F/production/_110630781_be86d2ca-281f-43a4-83b6-717d0d7cd9d6.jpg', 'publishedAt': '2020-01-24T09:37:47Z', 'content': 'Image copyrightMichael HopeImage caption\\r\\n Artist Michael Hope has been living in Wuhan for a year and a half\\r\\nA British artist who spent two days in quarantine with suspected coronavirus before being given the all clear has said he fears for his friends in C… [+4146 chars]'}, {'source': {'id': 'bbc-news', 'name': 'BBC News'}, 'author': None, 'title': 'Ramirez-Postol bout called off because of coronavirus in China', 'description': \"Jose Ramirez's unified WBC and WBO light-welterweight title defence against Vikto Postol is postponed because of the coronavirus outbreak in China.\", 'url': 'https://www.bbc.co.uk/sport/boxing/51233823', 'urlToImage': 'https://ichef.bbci.co.uk/onesport/cps/624/cpsprodpb/E3BF/production/_110630385_gettyimages-935065672.jpg', 'publishedAt': '2020-01-24T09:28:33Z', 'content': \"Jose Ramirez (pictured) could take on Britain's Josh Taylor in a unification fight if he beats Viktor Postol\\r\\nJose Ramirez's unified WBC and WBO light-welterweight title defence against Viktor Postol has been postponed because of the coronavirus outbreak in C… [+600 chars]\"}, {'source': {'id': 'bbc-news', 'name': 'BBC News'}, 'author': 'https://www.facebook.com/bbcnews', 'title': \"Scotland's papers: Scotland on 'high alert' over 'snake flu'\", 'description': 'A health alert over patients being tested in Scotland for the coronavirus makes the front pages.', 'url': 'https://www.bbc.co.uk/news/uk-scotland-51233161', 'urlToImage': 'https://ichef.bbci.co.uk/news/1024/branded_news/7910/production/_110629903_sdm.jpg', 'publishedAt': '2020-01-24T07:01:24Z', 'content': 'Virus death toll rises as more cities shut downAt least 10 cities have travel restrictions imposed, as authorities say 26 people have died so far.'}, {'source': {'id': 'bbc-news', 'name': 'BBC News'}, 'author': 'https://www.facebook.com/bbcnews', 'title': 'News Daily: UK tests for China virus and US rejects Harry Dunn case extradition', 'description': 'Your morning briefing for 24 January 2020.', 'url': 'https://www.bbc.co.uk/news/uk-51219086', 'urlToImage': 'https://ichef.bbci.co.uk/news/1024/branded_news/14944/production/_110629248_hi059352016.jpg', 'publishedAt': '2020-01-24T06:34:24Z', 'content': 'If you want to get this briefing by email, sign up here\\r\\nImage copyrightEPAImage caption\\r\\n The UK is monitoring direct flights arriving from China as a precaution\\r\\nUK tests 14 as China battles to contain virus\\r\\nAs China battles to contain a deadly coronavirus… [+5294 chars]'}, {'source': {'id': 'bbc-news', 'name': 'BBC News'}, 'author': 'Bbc News', 'title': \"Coronavirus: What's the difference between pandemic and epidemic?\", 'description': 'Concerns are growing that the recently-detected coronavirus may spread. Dr Rosalind Eggo explains.', 'url': 'https://www.bbc.co.uk/news/av/health-51224894/coronavirus-what-s-the-difference-between-pandemic-and-epidemic', 'urlToImage': 'https://ichef.bbci.co.uk/news/1024/branded_news/DCF2/production/_110626565_p081762p.jpg', 'publishedAt': '2020-01-24T06:12:45Z', 'content': 'VideoConcerns are growing that the recently-detected coronavirus may spread. Dr Rosalind Eggo explains.'}, {'source': {'id': 'bbc-news', 'name': 'BBC News'}, 'author': 'https://www.facebook.com/bbcnews', 'title': \"China's travel industry counts cost of coronavirus\", 'description': 'Airlines and hotels are having to pay out refunds to tourists affected by the deadly outbreak.', 'url': 'https://www.bbc.co.uk/news/business-51232374', 'urlToImage': 'https://ichef.bbci.co.uk/news/1024/branded_news/1674E/production/_110628919_gettyimages-1195418012.jpg', 'publishedAt': '2020-01-24T06:04:46Z', 'content': \"Image copyrightGetty Images\\r\\nAs public health concerns rise over a new virus, the impact is being felt by China's travel and tourism sector.\\r\\nMore than 400m Chinese were expected to travel over the Lunar New Year which starts today, normally one of the busies… [+2729 chars]\"}, {'source': {'id': 'bbc-news', 'name': 'BBC News'}, 'author': 'https://www.facebook.com/bbcnews', 'title': 'China coronavirus: 14 people in UK tested for new strain', 'description': 'Five people tested negative while nine others are waiting for results, says Public Health England.', 'url': 'https://www.bbc.co.uk/news/uk-51232163', 'urlToImage': 'https://ichef.bbci.co.uk/news/1024/branded_news/177C0/production/_110629169_hi059351151.jpg', 'publishedAt': '2020-01-24T05:09:02Z', 'content': 'Image copyrightEPAImage caption\\r\\n A health team are available at Heathrow Airport for travellers from China\\r\\nMore than a dozen people in the UK have been tested for the new strain of coronavirus, Public Health England has said.\\r\\nFive people have tested negati… [+4591 chars]'}, {'source': {'id': 'bbc-news', 'name': 'BBC News'}, 'author': 'https://www.facebook.com/bbcnews', 'title': \"Coronavirus: Chinese embassy in Paris finds woman who 'cheated' checks\", 'description': 'The woman boasted about taking medicine to bring her temperature down in order to clear customs.', 'url': 'https://www.bbc.co.uk/news/world-asia-china-51231593', 'urlToImage': 'https://ichef.bbci.co.uk/news/1024/branded_news/1529A/production/_110628668_005uquosly1gb6dfhw8lwj30dt0ltjt9.jpg', 'publishedAt': '2020-01-24T03:09:52Z', 'content': 'Image copyrightWeiboImage caption\\r\\n She posted pictures of her meal on social media platform WeChat\\r\\nThe Chinese embassy in Paris has tracked down a woman from Wuhan who said she took tablets to pass airport health checks.\\r\\nThe woman boasted on social media t… [+2609 chars]'}, {'source': {'id': 'bbc-news', 'name': 'BBC News'}, 'author': 'https://www.facebook.com/bbcnews', 'title': \"Coronavirus: 'I’m terrified… it's way out of control'\", 'description': \"Lele should be getting ready for Lunar New Year. Instead she doesn't want to leave her house.\", 'url': 'https://www.bbc.co.uk/news/newsbeat-51227964', 'urlToImage': 'https://ichef.bbci.co.uk/news/1024/branded_news/159F2/production/_110626588_corona2.png', 'publishedAt': '2020-01-24T00:55:55Z', 'content': 'Image copyrightGetty ImagesImage caption\\r\\n A file photo of family in Wuhan - not Lele\\r\\nIt should have been a time for \"Lele\" and her family to have fun, and relax in each other\\'s company. \\r\\nBut this year, for the upcoming Lunar New Year holiday in China, the … [+2946 chars]'}, {'source': {'id': 'bbc-news', 'name': 'BBC News'}, 'author': 'https://www.facebook.com/bbcnews', 'title': 'China coronavirus: The lessons learned from the Sars outbreak', 'description': 'Almost two decades after Sars, a new mystery virus puts China back in the global spotlight.', 'url': 'https://www.bbc.co.uk/news/world-asia-china-51221394', 'urlToImage': 'https://ichef.bbci.co.uk/news/1024/branded_news/C05A/production/_110624294_gettyimages-157005234.jpg', 'publishedAt': '2020-01-24T00:45:57Z', 'content': 'Image copyrightGetty ImagesImage caption\\r\\n China was accused of covering-up the Sars epidemic\\r\\nIn March 2003 it became clear a mysterious and previously unknown disease was starting to spread around the world. \\r\\nSevere Acute Respiratory Syndrome (Sars) went o… [+9640 chars]'}, {'source': {'id': 'bbc-news', 'name': 'BBC News'}, 'author': 'BBC News', 'title': \"What's the difference between pandemic and epidemic?\", 'description': 'Concerns are growing that the recently-detected coronavirus may spread. Dr Rosalind Eggo explains.', 'url': 'https://www.bbc.co.uk/news/av/health-51224894/what-s-the-difference-between-pandemic-and-epidemic', 'urlToImage': 'https://ichef.bbci.co.uk/news/1024/branded_news/DCF2/production/_110626565_p081762p.jpg', 'publishedAt': '2020-01-24T00:09:07Z', 'content': 'VideoConcerns are growing that the recently-detected coronavirus may spread. Dr Rosalind Eggo explains.'}]}\n"
     ]
    }
   ],
   "source": [
    "# Test the API before running\n",
    "myDate = '2020-01-24'\n",
    "mySource = 'bbc-news'\n",
    "scraped_news = newsapi.get_everything(q='coronavirus',\n",
    "                                      sources=mySource,\n",
    "                                      from_param=myDate,\n",
    "                                      to=myDate,\n",
    "                                      language='en',\n",
    "                                      sort_by='publishedAt',\n",
    "                                      page_size=100)\n",
    "\n",
    "print(scraped_news)\n",
    "\n",
    "with open(\"test.json\", \"w\") as outfile:\n",
    "    json.dump(scraped_news, outfile, indent=4)"
   ]
  },
  {
   "cell_type": "code",
   "execution_count": 14,
   "metadata": {},
   "outputs": [
    {
     "name": "stdout",
     "output_type": "stream",
     "text": [
      "{'status': 'ok', 'totalResults': 8, 'articles': [{'source': {'id': 'al-jazeera-english', 'name': 'Al Jazeera English'}, 'author': 'Al Jazeera', 'title': 'China coronavirus outbreak: All the latest updates', 'description': 'WHO urges governments to step up efforts to prepare for coronavirus as toll from epidemic jumps past 1,600 in China.', 'url': 'https://www.aljazeera.com/news/2020/02/200215224437270.html', 'urlToImage': 'https://www.aljazeera.com/mritems/Images/2020/2/15/1b2b2d6abecd46ff9d9230e80adcd3a4_18.jpg', 'publishedAt': '2020-02-15T23:40:25Z', 'content': 'The death toll from China\\'s coronavirus epidemic jumped past 1,600 on Sunday, as the World Health Organization (WHO) praised the country\\'s efforts to contain the new disease, saying they have \"bought the world time\" and that other nations must make the most o… [+2235 chars]'}, {'source': {'id': 'al-jazeera-english', 'name': 'Al Jazeera English'}, 'author': 'Al Jazeera', 'title': \"Chinese tourist in France is Europe's first coronavirus death\", 'description': 'More than 1,500 people have died from the coronavirus, officially known as COVID-19, mostly in mainland China.', 'url': 'https://www.aljazeera.com/news/2020/02/chinese-tourist-france-europe-coronavirus-death-200215152240577.html', 'urlToImage': 'https://www.aljazeera.com/mritems/Images/2020/2/15/8d0140e3820a41cb848deb4b1eae7e37_18.jpg', 'publishedAt': '2020-02-15T16:44:27Z', 'content': 'An elderly Chinese tourist in France has died after contracting the COVID-19 coronavirus, becoming the first fatality outside of the Asia-Pacific region in an epidemic that has killed more than 1,500 people in mainland China.\\r\\nThe 80-year-old man, who was fro… [+2419 chars]'}, {'source': {'id': 'al-jazeera-english', 'name': 'Al Jazeera English'}, 'author': 'Tom Benner', 'title': 'Business, but not as usual, at Singapore Airshow - Aljazeera.com', 'description': \"Asia's largest aerospace and defence event sees drop in participants, attendance amid deadly coronavirus outbreak.\", 'url': 'https://www.aljazeera.com/ajimpact/business-usual-singapore-airshow-200215144647362.html', 'urlToImage': 'https://www.aljazeera.com/mritems/Images/2020/2/15/161d27036397462ea1e2c935f0942b1b_18.jpg', 'publishedAt': '2020-02-15T14:54:00Z', 'content': \"Singapore - The makers of next-generation military jets and civil aircraft gather every two years at the Singapore Airshow, billed as Asia's largest aerospace and defence event.\\r\\nSuppliers and customers attending the high-profile show typically discuss cuttin… [+5796 chars]\"}, {'source': {'id': 'al-jazeera-english', 'name': 'Al Jazeera English'}, 'author': 'Al Jazeera', 'title': 'China stood with Palestinians and with other oppressed people', 'description': \"China's Foreign Minister Wang Yi has rejected international criticism on China’s human rights record during a visit to Berlin.\", 'url': 'https://www.aljazeera.com/news/2020/02/china-stood-palestinians-oppressed-people-200215135956942.html', 'urlToImage': 'https://www.aljazeera.com/mritems/images/2020/2/15/image-20200215140000669.jpg', 'publishedAt': '2020-02-15T13:59:57Z', 'content': \"China's Foreign Minister\\xa0Wang Yi has rejected international criticism on Chinas human rights record during a visit to Berlin.\\r\\nWang criticised some countries for over-reacting to the coronavirus, also known as COVID-19, which has now killed more than 1500 peo… [+390 chars]\"}, {'source': {'id': 'al-jazeera-english', 'name': 'Al Jazeera English'}, 'author': None, 'title': 'Speaking up about the coronavirus â€“ but at what cost?', 'description': \"Why China saw public anger and reporting about the coronavirus go uncensored. Plus, the fury of India's news anchors.\", 'url': 'https://www.aljazeera.com/programmes/listeningpost/2020/02/speaking-coronavirus-cost-200215110918298.html', 'urlToImage': None, 'publishedAt': '2020-02-15T11:22:26Z', 'content': None}, {'source': {'id': 'al-jazeera-english', 'name': 'Al Jazeera English'}, 'author': 'Al Jazeera', 'title': \"China to loosen banks' bad debt limits to boost virus-hit firms - Aljazeera.com\", 'description': \"China to loosen banks' bad debt limits to boost virus-hit firms Aljazeera.com China Quarantines Cash to Sanitize Old Bank Notes From Virus Bloomberg China keeps bank credits on tap to help companies survive outbreak South China Morning Post China issues measu…\", 'url': 'https://www.aljazeera.com/ajimpact/china-loosen-banks-bad-debt-limits-boost-virus-hit-firms-200215092325668.html', 'urlToImage': 'https://www.aljazeera.com/mritems/Images/2020/2/15/d398ad6dd86b4cd6a6118c0e56435af5_18.jpg', 'publishedAt': '2020-02-15T10:46:00Z', 'content': 'China\\'s central bank said on Saturday that the country\\'s lenders will tolerate higher levels of bad loans, part of efforts to support companies hit by the coronavirus epidemic.\\r\\n\"We will support qualified firms so that they can resume work and production as s… [+2423 chars]'}, {'source': {'id': 'al-jazeera-english', 'name': 'Al Jazeera English'}, 'author': 'Al Jazeera', 'title': 'Chinese, Vatican foreign ministers hold rare high-level meeting', 'description': 'The meeting between Archbishop Paul Gallagher and Wang Yi took place on the sidelines of the Munich Security Conference', 'url': 'https://www.aljazeera.com/news/2020/02/chinese-vatican-foreign-ministers-hold-rare-high-level-meeting-200215075901121.html', 'urlToImage': 'https://www.aljazeera.com/mritems/Images/2020/2/15/60c72c08c19c46b2b067a111ec974bc9_18.jpg', 'publishedAt': '2020-02-15T09:43:43Z', 'content': 'The foreign ministers of the Vatican and China have met on Friday in what is believed to be the highest-level official encounter between the two sides in decades.\\r\\nThe meeting between Archbishop Paul Gallagher and Wang Yi, previously unthinkable, took place o… [+2141 chars]'}, {'source': {'id': 'al-jazeera-english', 'name': 'Al Jazeera English'}, 'author': 'Al Jazeera', 'title': 'China coronavirus outbreak: All the latest updates', 'description': \"Top official in Beijing slams 'overreaction' of some countries as new fatalities push China's death toll past 1,500.\", 'url': 'https://www.aljazeera.com/news/2020/02/clone.of.cloneofchina-coronavirus-outbreak-latest-.html', 'urlToImage': 'https://www.aljazeera.com/mritems/Images/2020/2/14/d38350f9c2e34fd4af12097ca07b563e_18.jpg', 'publishedAt': '2020-02-15T00:41:37Z', 'content': \"The death toll from the new coronavirus epidemic in China surged past 1,500 on Saturday after 139 more people died in Hubei province, the epicentre of the outbreak.\\r\\nState Councillor Wang Yi, who also serves as China's foreign minister, acknowledged that the … [+3084 chars]\"}]}\n"
     ]
    }
   ],
   "source": [
    "myDate = '2020-02-24'\n",
    "mySource = 'bbc-news'\n",
    "bbc_news = newsapi.get_everything(q='coronavirus',\n",
    "                                      sources=mySource,\n",
    "                                      from_param=myDate,\n",
    "                                      to=myDate,\n",
    "                                      language='en',\n",
    "                                      sort_by='popularity',\n",
    "                                      page_size=100)\n",
    "\n",
    "print(scraped_news)\n",
    "\n",
    "with open(\"test.json\", \"w\") as outfile:\n",
    "    json.dump(scraped_news, outfile, indent=4)"
   ]
  },
  {
   "cell_type": "code",
   "execution_count": 15,
   "metadata": {},
   "outputs": [
    {
     "data": {
      "text/plain": [
       "'bbc-news'"
      ]
     },
     "execution_count": 15,
     "metadata": {},
     "output_type": "execute_result"
    }
   ],
   "source": [
    "mySource\n"
   ]
  }
 ],
 "metadata": {
  "kernelspec": {
   "display_name": "Python [conda env:PythonData] *",
   "language": "python",
   "name": "conda-env-PythonData-py"
  },
  "language_info": {
   "codemirror_mode": {
    "name": "ipython",
    "version": 3
   },
   "file_extension": ".py",
   "mimetype": "text/x-python",
   "name": "python",
   "nbconvert_exporter": "python",
   "pygments_lexer": "ipython3",
   "version": "3.6.9"
  }
 },
 "nbformat": 4,
 "nbformat_minor": 2
}
