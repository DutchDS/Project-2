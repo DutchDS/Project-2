{
 "cells": [
  {
   "cell_type": "code",
   "execution_count": 3,
   "metadata": {},
   "outputs": [],
   "source": [
    "import os\n",
    "import csv\n",
    "import time\n",
    "import json\n",
    "from datetime import timedelta, date\n",
    "from config import newsapi_key\n",
    "from pathlib import Path\n",
    "from newsapi import NewsApiClient"
   ]
  },
  {
   "cell_type": "code",
   "execution_count": 4,
   "metadata": {},
   "outputs": [],
   "source": [
    "# print(newsapi_key)"
   ]
  },
  {
   "cell_type": "code",
   "execution_count": 5,
   "metadata": {},
   "outputs": [],
   "source": [
    "# Install newsou-python module into environment\n",
    "# $ pip install newsapi-python\n",
    "\n",
    "# Usage\n",
    "# from newsapi import NewsApiClient"
   ]
  },
  {
   "cell_type": "code",
   "execution_count": 6,
   "metadata": {},
   "outputs": [],
   "source": [
    "# Init newspai client\n",
    "newsapi = NewsApiClient(api_key=newsapi_key)"
   ]
  },
  {
   "cell_type": "code",
   "execution_count": 7,
   "metadata": {},
   "outputs": [
    {
     "name": "stdout",
     "output_type": "stream",
     "text": [
      "<newsapi.newsapi_client.NewsApiClient object at 0x00000229C94F8320>\n"
     ]
    }
   ],
   "source": [
    "print(newsapi)"
   ]
  },
  {
   "cell_type": "code",
   "execution_count": 8,
   "metadata": {},
   "outputs": [],
   "source": [
    "sources_to_check = [\n",
    "                    'bbc-news', \n",
    "                    'bloomberg', \n",
    "                    'breitbart-news', \n",
    "                    'cnn', \n",
    "                    'cbs-news',\n",
    "                    \"the-washington-post\", \n",
    "                    'the-wall-street-journal',\n",
    "                    'the-huffington-post',\n",
    "                    'reuters',\n",
    "                    'politico', \n",
    "                    'newsweek',\n",
    "                    'new-scientist',\n",
    "                    'national-geographic',\n",
    "                    'medical-news-today',\n",
    "                    'business-insider',\n",
    "                    'al-jazeera-english',\n",
    "#                     'abc-news',\n",
    "#                     'nbc-news',\n",
    "#                     'national-review',\n",
    "#                     'the-hill',\n",
    "#                     \"the-globe-and-mail\",\n",
    "#                     'fox-news',\n",
    "#                     'msnbc',\n",
    "#                     'Fortune',\n",
    "#                     'cnbc',\n",
    "#                     'google-news' \n",
    "                    ]"
   ]
  },
  {
   "cell_type": "code",
   "execution_count": 13,
   "metadata": {},
   "outputs": [
    {
     "name": "stdout",
     "output_type": "stream",
     "text": [
      "['2020-02-24', '2020-02-25', '2020-02-26', '2020-02-27']\n"
     ]
    }
   ],
   "source": [
    "# create a range of dates to query for news.\n",
    "def daterange(date1, date2):\n",
    "    for n in range(int ((date2 - date1).days)+1):\n",
    "        yield date1 + timedelta(n)\n",
    "\n",
    "start_dt = date(2020, 2, 24)\n",
    "end_dt = date(2020, 2, 27)\n",
    "dateList = []\n",
    "for dt in daterange(start_dt, end_dt):\n",
    "    dateList.append(dt.strftime(\"%Y-%m-%d\"))\n",
    "    \n",
    "print(dateList)"
   ]
  },
  {
   "cell_type": "code",
   "execution_count": 10,
   "metadata": {
    "scrolled": true
   },
   "outputs": [
    {
     "name": "stdout",
     "output_type": "stream",
     "text": [
      "['bbc-news', 'bloomberg', 'breitbart-news', 'cnn', 'cbs-news', 'the-washington-post', 'the-wall-street-journal', 'the-huffington-post', 'reuters', 'politico', 'newsweek', 'new-scientist', 'national-geographic', 'medical-news-today', 'business-insider', 'al-jazeera-english']\n"
     ]
    }
   ],
   "source": [
    "# mySources = sources_to_check[2:]\n",
    "# print(mySources)\n",
    "mySources = sources_to_check\n",
    "print(mySources)"
   ]
  },
  {
   "cell_type": "code",
   "execution_count": 12,
   "metadata": {},
   "outputs": [
    {
     "name": "stdout",
     "output_type": "stream",
     "text": [
      "Scraping news from bbc-news_9999-02-24.json\n",
      "Scraping news from bloomberg_9999-02-24.json\n",
      "Scraping news from breitbart-news_9999-02-24.json\n",
      "Scraping news from cnn_9999-02-24.json\n",
      "Scraping news from cbs-news_9999-02-24.json\n",
      "Scraping news from the-washington-post_9999-02-24.json\n",
      "Scraping news from the-wall-street-journal_9999-02-24.json\n",
      "Scraping news from the-huffington-post_9999-02-24.json\n",
      "Scraping news from reuters_9999-02-24.json\n",
      "Scraping news from politico_9999-02-24.json\n",
      "Scraping news from newsweek_9999-02-24.json\n",
      "Scraping news from new-scientist_9999-02-24.json\n",
      "Scraping news from national-geographic_9999-02-24.json\n",
      "Scraping news from medical-news-today_9999-02-24.json\n",
      "Scraping news from business-insider_9999-02-24.json\n",
      "Scraping news from al-jazeera-english_9999-02-24.json\n",
      "Scraping news from bbc-news_9999-02-25.json\n",
      "Scraping news from bloomberg_9999-02-25.json\n",
      "Scraping news from breitbart-news_9999-02-25.json\n",
      "Scraping news from cnn_9999-02-25.json\n",
      "Scraping news from cbs-news_9999-02-25.json\n",
      "Scraping news from the-washington-post_9999-02-25.json\n",
      "Scraping news from the-wall-street-journal_9999-02-25.json\n",
      "Scraping news from the-huffington-post_9999-02-25.json\n",
      "Scraping news from reuters_9999-02-25.json\n",
      "Scraping news from politico_9999-02-25.json\n",
      "Scraping news from newsweek_9999-02-25.json\n",
      "Scraping news from new-scientist_9999-02-25.json\n",
      "Scraping news from national-geographic_9999-02-25.json\n",
      "Scraping news from medical-news-today_9999-02-25.json\n",
      "Scraping news from business-insider_9999-02-25.json\n",
      "Scraping news from al-jazeera-english_9999-02-25.json\n",
      "Scraping news from bbc-news_9999-02-26.json\n",
      "Scraping news from bloomberg_9999-02-26.json\n",
      "Scraping news from breitbart-news_9999-02-26.json\n",
      "Scraping news from cnn_9999-02-26.json\n",
      "Scraping news from cbs-news_9999-02-26.json\n",
      "Scraping news from the-washington-post_9999-02-26.json\n",
      "Scraping news from the-wall-street-journal_9999-02-26.json\n",
      "Scraping news from the-huffington-post_9999-02-26.json\n",
      "Scraping news from reuters_9999-02-26.json\n",
      "Scraping news from politico_9999-02-26.json\n",
      "Scraping news from newsweek_9999-02-26.json\n",
      "Scraping news from new-scientist_9999-02-26.json\n",
      "Scraping news from national-geographic_9999-02-26.json\n",
      "Scraping news from medical-news-today_9999-02-26.json\n",
      "Scraping news from business-insider_9999-02-26.json\n",
      "Scraping news from al-jazeera-english_9999-02-26.json\n",
      "Scraping news from bbc-news_9999-02-27.json\n",
      "Scraping news from bloomberg_9999-02-27.json\n",
      "Scraping news from breitbart-news_9999-02-27.json\n",
      "Scraping news from cnn_9999-02-27.json\n",
      "Scraping news from cbs-news_9999-02-27.json\n",
      "Scraping news from the-washington-post_9999-02-27.json\n",
      "Scraping news from the-wall-street-journal_9999-02-27.json\n",
      "Scraping news from the-huffington-post_9999-02-27.json\n",
      "Scraping news from reuters_9999-02-27.json\n",
      "Scraping news from politico_9999-02-27.json\n",
      "Scraping news from newsweek_9999-02-27.json\n",
      "Scraping news from new-scientist_9999-02-27.json\n",
      "Scraping news from national-geographic_9999-02-27.json\n",
      "Scraping news from medical-news-today_9999-02-27.json\n",
      "Scraping news from business-insider_9999-02-27.json\n",
      "Scraping news from al-jazeera-english_9999-02-27.json\n"
     ]
    }
   ],
   "source": [
    "# Iterate News API by Date and then by News Source.  \n",
    "# Create News files for newsSource + date\n",
    "basePath = \"../static/newsdata\"\n",
    "Path(basePath).mkdir(parents=True, exist_ok=True)\n",
    "\n",
    "for myDate in dateList:\n",
    "    dirPath = basePath + \"/\" + myDate\n",
    "    Path(dirPath).mkdir(parents=True, exist_ok=True)\n",
    "    \n",
    "    for source in mySources:\n",
    "        filename = f\"{source}_{myDate}.json\"\n",
    "        filepath = dirPath + \"/\" + filename\n",
    "        print(f\"Scraping news from {filename}\")\n",
    "\n",
    "#        scraped_news = filepath\n",
    "        \n",
    "        scraped_news = newsapi.get_everything(q='coronavirus',\n",
    "                                          sources=source,\n",
    "                                          from_param=myDate,\n",
    "                                          to=myDate,\n",
    "                                          language='en',\n",
    "                                          sort_by='relevancy',\n",
    "                                          page_size=100)\n",
    "\n",
    "\n",
    "        with open(filepath, \"w\") as outfile:\n",
    "            json.dump(scraped_news, outfile, indent=4)\n"
   ]
  },
  {
   "cell_type": "code",
   "execution_count": 25,
   "metadata": {
    "scrolled": true
   },
   "outputs": [],
   "source": [
    "# First Attempt\n",
    "# Iterate newsapi by news Source and then by date\n",
    "# grab news files for news source _ date\n",
    "\n",
    "# basePath = \"./static/news\"\n",
    "# Path(basePath).mkdir(parents=True, exist_ok=True)\n",
    "\n",
    "# for source in mySources:\n",
    "#     dirPath = basePath + \"/\" + source\n",
    "#     Path(dirPath).mkdir(parents=True, exist_ok=True)\n",
    "    \n",
    "#     for myDate in dateList:\n",
    "#         filename = f\"{source}_{myDate}.json\"\n",
    "#         filepath = dirPath + \"/\" + filename\n",
    "#         print(f\"Scraping news from {filename}\")\n",
    "        \n",
    "#         scraped_news = newsapi.get_everything(q='coronavirus',\n",
    "#                                           sources=source,\n",
    "#                                           from_param=myDate,\n",
    "#                                           to=myDate,\n",
    "#                                           language='en',\n",
    "#                                           sort_by='publishedAt',\n",
    "#                                           page_size=100)\n",
    "\n",
    "\n",
    "#         with open(filepath, \"w\") as outfile:\n",
    "#             json.dump(filepath, outfile, indent=4)\n"
   ]
  },
  {
   "cell_type": "code",
   "execution_count": 12,
   "metadata": {},
   "outputs": [
    {
     "name": "stdout",
     "output_type": "stream",
     "text": [
      "{'status': 'ok', 'totalResults': 20, 'articles': [{'source': {'id': 'bbc-news', 'name': 'BBC News'}, 'author': None, 'title': 'Harvey Weinstein convicted of rape and sexual assault', 'description': 'The film producer was found guilty of two of the five charges he faced. Also, the WHO urges countries to prepare for a possible coronavirus pandemic, and a man is arrested in Germany after a car drove into people at a carnival.', 'url': 'https://www.bbc.co.uk/programmes/p084nd3v', 'urlToImage': 'https://ichef.bbci.co.uk/images/ic/1200x675/p07zqpb8.jpg', 'publishedAt': '2020-02-24T23:38:00Z', 'content': 'The film producer was found guilty of two of the five charges he faced. Also, the WHO urges countries to prepare for a possible coronavirus pandemic, and a man is arrested in Germany after a car drove into people at a carnival.'}, {'source': {'id': 'bbc-news', 'name': 'BBC News'}, 'author': 'https://www.facebook.com/bbcnews', 'title': \"The Papers: Harvey Weinstein 'locked up at last'\", 'description': \"Tuesday's front pages cover the producer's guilty verdict, and new coronavirus measures in the UK.\", 'url': 'https://www.bbc.co.uk/news/blogs-the-papers-51623430', 'urlToImage': 'https://ichef.bbci.co.uk/news/1024/branded_news/E706/production/_111024195_telegraph.jpg', 'publishedAt': '2020-02-24T23:37:08Z', 'content': None}, {'source': {'id': 'bbc-news', 'name': 'BBC News'}, 'author': 'BBC News', 'title': \"'I'm not leaving China without my dog'\", 'description': 'A Ukrainian woman has told the BBC why she decided to decline evacuation and stay in the coronavirus stricken Chinese city of Wuhan.', 'url': 'https://www.bbc.co.uk/news/av/world-europe-51621071/i-m-not-leaving-china-without-my-dog', 'urlToImage': 'https://ichef.bbci.co.uk/news/1024/branded_news/1784C/production/_111023369_p084mjd4.jpg', 'publishedAt': '2020-02-24T18:40:41Z', 'content': None}, {'source': {'id': 'bbc-news', 'name': 'BBC News'}, 'author': 'https://www.facebook.com/bbcnews', 'title': 'Coronavirus: Your rights as a traveller', 'description': 'The coronavirus has already become a nightmare for travellers and the tourism industry alike.', 'url': 'https://www.bbc.co.uk/news/business-51615412', 'urlToImage': 'https://ichef.bbci.co.uk/news/1024/branded_news/D8D7/production/_111011555_scan_afp.jpg', 'publishedAt': '2020-02-24T16:03:51Z', 'content': \"Image copyrightAFPImage caption\\r\\n Thermal scans intended to detect the coronavirus are becoming widespread at airports\\r\\nWith new cases of the coronavirus being diagnosed in more and more locations, it's hard to predict where it will pop up next.\\r\\nBut one thin… [+4691 chars]\"}, {'source': {'id': 'bbc-news', 'name': 'BBC News'}, 'author': None, 'title': 'Coronavirus spread raises fears of global pandemic', 'description': \"There are concerns about cases in countries with a weak health infrastructure like Iraq and Afghanistan. US President Donald Trump visits India. The world's oldest prime minister, Mahathir Mohamad, has submitted his shock resignation.\", 'url': 'https://www.bbc.co.uk/programmes/p084lvrp', 'urlToImage': 'https://ichef.bbci.co.uk/images/ic/1200x675/p07zqpb8.jpg', 'publishedAt': '2020-02-24T15:27:00Z', 'content': \"There are concerns about cases in countries with a weak health infrastructure like Iraq and Afghanistan. US President Donald Trump visits India. The world's oldest prime minister, Mahathir Mohamad, has submitted his shock resignation.\"}, {'source': {'id': 'bbc-news', 'name': 'BBC News'}, 'author': None, 'title': 'Coronavirus: soon a pandemic?', 'description': \"The World Health Organisation has praised China's response to the coronavirus outbreak, which includes a rare postponement of the annual meeting of its parliament. This comes as more cases are reported worldwide and governments struggle to contain the virus. …\", 'url': 'https://www.bbc.co.uk/programmes/w172wq56p7pmrxp', 'urlToImage': 'https://ichef.bbci.co.uk/images/ic/1200x675/p084lb1w.jpg', 'publishedAt': '2020-02-24T15:18:00Z', 'content': \"The World Health Organisation has praised China's response to the coronavirus outbreak, which includes a rare postponement of the annual meeting of its parliament. This comes as more cases are reported worldwide and governments struggle to contain the virus. … [+351 chars]\"}, {'source': {'id': 'bbc-news', 'name': 'BBC News'}, 'author': 'https://www.facebook.com/bbcnews', 'title': 'BTS ask fans to avoid their shows over coronavirus fears', 'description': \"The band's upcoming shows will be taped without an audience after the virus spreads to Korea.\", 'url': 'https://www.bbc.co.uk/news/entertainment-arts-51613223', 'urlToImage': 'https://ichef.bbci.co.uk/news/1024/branded_news/15223/production/_110936568_8ad8a3e5-6862-4455-84ab-1dd49a091ef6.jpg', 'publishedAt': '2020-02-24T14:25:31Z', 'content': 'Image copyrightGetty ImagesImage caption\\r\\n The band are set to go to number one this weekend with their latest album, Map Of The Soul: 7\\r\\nPop group BTS have asked fans to stay away from their upcoming shows to prevent the spread of coronavirus.\\r\\nThe South Kor… [+2961 chars]'}, {'source': {'id': 'bbc-news', 'name': 'BBC News'}, 'author': 'https://www.facebook.com/bbcnews', 'title': \"Coronavirus: UK 'well prepared' to deal with cases, says government\", 'description': 'The number of UK cases rose to 13 after cruise ship passengers returned to Britain on Saturday.', 'url': 'https://www.bbc.co.uk/news/uk-51612039', 'urlToImage': 'https://ichef.bbci.co.uk/news/1024/branded_news/70BD/production/_111016882_coachescarryingpassengersthathavebeenrepatriatedtotheukfromacruiseshiphitbythecoronavirusinyokohamajapanarriveatarroweparkhospitalonthewirralwherepa.jpg', 'publishedAt': '2020-02-24T14:16:27Z', 'content': 'Image copyrightPA MediaImage caption\\r\\n Evacuees from the Diamond Princess cruise ship were taken to Arrowe Park Hospital on Saturday\\r\\nThe UK is \"well prepared\" to deal with coronavirus cases and the risk to individuals \"remains low\", the government has said.\\r… [+4099 chars]'}, {'source': {'id': 'bbc-news', 'name': 'BBC News'}, 'author': 'https://www.facebook.com/bbcnews', 'title': \"UK's 5G network well within safety limits, Ofcom tests find\", 'description': 'Ofcom testing of the UK\\'s 5G network finds radiation is at a \"small fraction\" of safe levels.', 'url': 'https://www.bbc.co.uk/news/technology-51613580', 'urlToImage': 'https://ichef.bbci.co.uk/news/1024/branded_news/0EA7/production/_111015730_gettyimages-1139497529.jpg', 'publishedAt': '2020-02-24T14:06:48Z', 'content': 'Image copyrightGetty ImagesImage caption\\r\\n Protesters - like this man in Warsaw in April - have rallied against 5G\\r\\nThe first UK safety tests of 5G base stations has found radiation levels are at \"small fractions\" of safe limits.\\r\\nThe rollout of ultra-fast 5G… [+3083 chars]'}, {'source': {'id': 'bbc-news', 'name': 'BBC News'}, 'author': None, 'title': 'Coronavirus: Inter Milan v Ludogrets in Europa League expected to be behind closed doors', 'description': 'Inter Milan are expected to play their home Europa League match against Ludogorets behind closed doors because of fears about coronavirus.', 'url': 'https://www.bbc.co.uk/sport/football/51611932', 'urlToImage': 'https://ichef.bbci.co.uk/onesport/cps/624/cpsprodpb/112A7/production/_111011307_gettyimages-1202440977.jpg', 'publishedAt': '2020-02-24T12:57:30Z', 'content': 'Roma fans were seen taking precautions because of fears of the spread of coronavirus at the weekend\\r\\nInter Milan are expected to play their home Europa League last-32 match against Ludogorets behind closed doors because of fears about the spread of coronaviru… [+1422 chars]'}, {'source': {'id': 'bbc-news', 'name': 'BBC News'}, 'author': None, 'title': 'Ospreys and Ulster games in Italy postponed because of Coronavirus fears', 'description': \"Ospreys and Ulster's Pro14 trips to play in Italy at the weekend are postponed as sporting bodies react to the spread of coronavirus.\", 'url': 'https://www.bbc.co.uk/sport/rugby-union/51615577', 'urlToImage': 'https://ichef.bbci.co.uk/onesport/cps/624/cpsprodpb/B681/production/_111012764_coronavirus_getty.jpg', 'publishedAt': '2020-02-24T12:06:38Z', 'content': \"Ospreys and Ulster's Pro14 trips to play in Italy at the weekend have been postponed as sporting bodies react to the spread of coronavirus.\\r\\nFears are growing that the outbreak could become a pandemic as more cases emerge around the world with Italy having re… [+2046 chars]\"}, {'source': {'id': 'bbc-news', 'name': 'BBC News'}, 'author': 'https://www.facebook.com/bbcnews', 'title': 'Coronavirus: Iran denies cover-up as death toll rises to 12', 'description': \"A minister rejects a claim that 50 people have died in Qom, the centre of Iran's Covid-19 outbreak.\", 'url': 'https://www.bbc.co.uk/news/world-middle-east-51614920', 'urlToImage': 'https://ichef.bbci.co.uk/news/1024/branded_news/F7C7/production/_111013436_mediaitem111013432.jpg', 'publishedAt': '2020-02-24T11:49:58Z', 'content': \"Image copyrightEPAImage caption\\r\\n Iran reported its first deaths from the coronavirus disease last Wednesday\\r\\nIran's deputy health minister has denied a claim of a cover-up over the new coronavirus disease, as the number of confirmed deaths there rose to 12.\\r… [+1327 chars]\"}, {'source': {'id': 'bbc-news', 'name': 'BBC News'}, 'author': 'BBC News', 'title': \"Coronavirus: On the edge of Italy's lockdown area\", 'description': \"Italian police have quarantined the town of Codogno, centre of Italy's coronavirus outbreak.\", 'url': 'https://www.bbc.co.uk/news/av/world-europe-51614208/coronavirus-on-the-edge-of-italy-s-lockdown-area', 'urlToImage': 'https://ichef.bbci.co.uk/news/1024/branded_news/170DF/production/_111013449_p084kjcg.jpg', 'publishedAt': '2020-02-24T10:42:22Z', 'content': None}, {'source': {'id': 'bbc-news', 'name': 'BBC News'}, 'author': 'https://www.facebook.com/bbcnews', 'title': 'Gold price at seven-year high on coronavirus fears', 'description': 'Investors are flocking to the precious metal and jettisoning shares as the virus continues to spread.', 'url': 'https://www.bbc.co.uk/news/business-51612520', 'urlToImage': 'https://ichef.bbci.co.uk/news/1024/branded_news/1712F/production/_111011549_gold_bars.jpg', 'publishedAt': '2020-02-24T08:48:27Z', 'content': 'Image copyrightAFP\\r\\nThe price of gold has surged to its highest level in seven years as worries about the coronavirus led investors to seek a safe place for their money.\\r\\nGold prices climbed more than 2% on Monday to levels not seen since February 2013.\\r\\nThe … [+692 chars]'}, {'source': {'id': 'bbc-news', 'name': 'BBC News'}, 'author': 'BBC News', 'title': 'Coronavirus: Drone captures massive queue for masks in South Korea', 'description': 'Hundreds queued at a supermarket in Daegu, one of the South Korean epicentres of the virus outbreak.', 'url': 'https://www.bbc.co.uk/news/av/world-asia-51609712/coronavirus-drone-captures-massive-queue-for-masks-in-south-korea', 'urlToImage': 'https://ichef.bbci.co.uk/news/1024/branded_news/3D4A/production/_111009651_p084jxb0.jpg', 'publishedAt': '2020-02-24T08:37:39Z', 'content': None}, {'source': {'id': 'bbc-news', 'name': 'BBC News'}, 'author': 'https://www.facebook.com/bbcnews', 'title': 'Coronavirus: Rapid spread raises fears of global pandemic', 'description': 'More infections are reported around the world as governments struggle to contain outbreaks.', 'url': 'https://www.bbc.co.uk/news/world-51611422', 'urlToImage': 'https://ichef.bbci.co.uk/news/1024/branded_news/5F5B/production/_111011442_060186070.jpg', 'publishedAt': '2020-02-24T08:23:00Z', 'content': 'Image copyrightAFPImage caption\\r\\n South Korea has the largest number of infections outside China\\r\\nFears are growing that the coronavirus outbreak could become a global pandemic as new cases are reported around the world.\\r\\nAlthough most infections are in China… [+4404 chars]'}, {'source': {'id': 'bbc-news', 'name': 'BBC News'}, 'author': 'https://www.facebook.com/bbcnews', 'title': 'News Daily: Coronavirus spreading, UK housing gap and Whitehall tensions', 'description': 'Your morning briefing for Monday 24 February 2020.', 'url': 'https://www.bbc.co.uk/news/uk-51601711', 'urlToImage': 'https://ichef.bbci.co.uk/news/1024/branded_news/5438/production/_111006512_060168457.jpg', 'publishedAt': '2020-02-24T06:33:02Z', 'content': 'If you want to get this briefing by email, sign up here\\r\\nPandemic fears grow\\r\\nImage copyrightReutersImage caption\\r\\n The colourful Venice Carnival draws thousands of visitors to the city every year\\r\\nCoronavirus has now spread to 29 countries, with more than 2,… [+5793 chars]'}, {'source': {'id': 'bbc-news', 'name': 'BBC News'}, 'author': 'https://www.facebook.com/bbcnews', 'title': 'Coronavirus: North Korea quarantines foreigners amid fears', 'description': 'Meanwhile, South Korea has quarantined 7,700 troops after an outbreak in the military.', 'url': 'https://www.bbc.co.uk/news/world-asia-51609360', 'urlToImage': 'https://ichef.bbci.co.uk/news/1024/branded_news/0956/production/_111009320_gettyimages-1199135089.jpg', 'publishedAt': '2020-02-24T04:08:16Z', 'content': 'Image copyrightGetty ImagesImage caption\\r\\n North Korea is taking precautions to keep the virus out\\r\\nNorth Korea has quarantined 380 foreigners in a bid to stop the coronavirus from breaking out.\\r\\nThe foreigners are mostly diplomats stationed in the capital Py… [+4677 chars]'}, {'source': {'id': 'bbc-news', 'name': 'BBC News'}, 'author': 'https://www.facebook.com/bbcnews', 'title': 'Virus credit crunch hits millions of Chinese firms', 'description': 'Prolonged shutdowns for businesses in China are bringing many firms to the brink of survival.', 'url': 'https://www.bbc.co.uk/news/business-51609260', 'urlToImage': 'https://ichef.bbci.co.uk/news/1024/branded_news/5C26/production/_111009532_beijingvirus.jpg', 'publishedAt': '2020-02-24T04:06:45Z', 'content': 'Image copyrightGetty ImagesImage caption\\r\\n A man wears a protective face mask as he walks in the normally bustling Wangfujing shopping street in central Beijing\\r\\nMounting debts have hit Chinese companies struggling to pay workers and suppliers amid the corona… [+1627 chars]'}, {'source': {'id': 'bbc-news', 'name': 'BBC News'}, 'author': None, 'title': 'Venice carnival closes amid coronavirus outbreak', 'description': 'Italy quarantines whole towns, closes schools and cancels sports fixtures as infections increase. Also: protests in Budapest against anti-Roma campaign, and celebrating the theremin -- the Soviet-invented hands-free electronic instrument.', 'url': 'https://www.bbc.co.uk/programmes/p084hmcf', 'urlToImage': 'https://ichef.bbci.co.uk/images/ic/1200x675/p07zqpb8.jpg', 'publishedAt': '2020-02-24T00:02:00Z', 'content': 'Italy quarantines whole towns, closes schools and cancels sports fixtures as infections increase. Also: protests in Budapest against anti-Roma campaign, and celebrating the theremin -- the Soviet-invented hands-free electronic instrument.'}]}\n"
     ]
    }
   ],
   "source": [
    "# Test the API before running\n",
    "myDate = '2020-02-24'\n",
    "mySource = 'bbc-news'\n",
    "scraped_news = newsapi.get_everything(q='coronavirus',\n",
    "                                      sources=mySource,\n",
    "                                      from_param=myDate,\n",
    "                                      to=myDate,\n",
    "                                      language='en',\n",
    "                                      sort_by='publishedAt',\n",
    "                                      page_size=100)\n",
    "\n",
    "print(scraped_news)\n",
    "\n",
    "with open(\"test.json\", \"w\") as outfile:\n",
    "    json.dump(scraped_news, outfile, indent=4)"
   ]
  },
  {
   "cell_type": "code",
   "execution_count": 13,
   "metadata": {},
   "outputs": [
    {
     "name": "stdout",
     "output_type": "stream",
     "text": [
      "{'status': 'ok', 'totalResults': 20, 'articles': [{'source': {'id': 'bbc-news', 'name': 'BBC News'}, 'author': None, 'title': 'Harvey Weinstein convicted of rape and sexual assault', 'description': 'The film producer was found guilty of two of the five charges he faced. Also, the WHO urges countries to prepare for a possible coronavirus pandemic, and a man is arrested in Germany after a car drove into people at a carnival.', 'url': 'https://www.bbc.co.uk/programmes/p084nd3v', 'urlToImage': 'https://ichef.bbci.co.uk/images/ic/1200x675/p07zqpb8.jpg', 'publishedAt': '2020-02-24T23:38:00Z', 'content': 'The film producer was found guilty of two of the five charges he faced. Also, the WHO urges countries to prepare for a possible coronavirus pandemic, and a man is arrested in Germany after a car drove into people at a carnival.'}, {'source': {'id': 'bbc-news', 'name': 'BBC News'}, 'author': 'https://www.facebook.com/bbcnews', 'title': \"The Papers: Harvey Weinstein 'locked up at last'\", 'description': \"Tuesday's front pages cover the producer's guilty verdict, and new coronavirus measures in the UK.\", 'url': 'https://www.bbc.co.uk/news/blogs-the-papers-51623430', 'urlToImage': 'https://ichef.bbci.co.uk/news/1024/branded_news/E706/production/_111024195_telegraph.jpg', 'publishedAt': '2020-02-24T23:37:08Z', 'content': None}, {'source': {'id': 'bbc-news', 'name': 'BBC News'}, 'author': 'BBC News', 'title': \"'I'm not leaving China without my dog'\", 'description': 'A Ukrainian woman has told the BBC why she decided to decline evacuation and stay in the coronavirus stricken Chinese city of Wuhan.', 'url': 'https://www.bbc.co.uk/news/av/world-europe-51621071/i-m-not-leaving-china-without-my-dog', 'urlToImage': 'https://ichef.bbci.co.uk/news/1024/branded_news/1784C/production/_111023369_p084mjd4.jpg', 'publishedAt': '2020-02-24T18:40:41Z', 'content': None}, {'source': {'id': 'bbc-news', 'name': 'BBC News'}, 'author': 'https://www.facebook.com/bbcnews', 'title': 'Coronavirus: Your rights as a traveller', 'description': 'The coronavirus has already become a nightmare for travellers and the tourism industry alike.', 'url': 'https://www.bbc.co.uk/news/business-51615412', 'urlToImage': 'https://ichef.bbci.co.uk/news/1024/branded_news/D8D7/production/_111011555_scan_afp.jpg', 'publishedAt': '2020-02-24T16:03:51Z', 'content': \"Image copyrightAFPImage caption\\r\\n Thermal scans intended to detect the coronavirus are becoming widespread at airports\\r\\nWith new cases of the coronavirus being diagnosed in more and more locations, it's hard to predict where it will pop up next.\\r\\nBut one thin… [+4691 chars]\"}, {'source': {'id': 'bbc-news', 'name': 'BBC News'}, 'author': None, 'title': 'Coronavirus spread raises fears of global pandemic', 'description': \"There are concerns about cases in countries with a weak health infrastructure like Iraq and Afghanistan. US President Donald Trump visits India. The world's oldest prime minister, Mahathir Mohamad, has submitted his shock resignation.\", 'url': 'https://www.bbc.co.uk/programmes/p084lvrp', 'urlToImage': 'https://ichef.bbci.co.uk/images/ic/1200x675/p07zqpb8.jpg', 'publishedAt': '2020-02-24T15:27:00Z', 'content': \"There are concerns about cases in countries with a weak health infrastructure like Iraq and Afghanistan. US President Donald Trump visits India. The world's oldest prime minister, Mahathir Mohamad, has submitted his shock resignation.\"}, {'source': {'id': 'bbc-news', 'name': 'BBC News'}, 'author': None, 'title': 'Coronavirus: soon a pandemic?', 'description': \"The World Health Organisation has praised China's response to the coronavirus outbreak, which includes a rare postponement of the annual meeting of its parliament. This comes as more cases are reported worldwide and governments struggle to contain the virus. …\", 'url': 'https://www.bbc.co.uk/programmes/w172wq56p7pmrxp', 'urlToImage': 'https://ichef.bbci.co.uk/images/ic/1200x675/p084lb1w.jpg', 'publishedAt': '2020-02-24T15:18:00Z', 'content': \"The World Health Organisation has praised China's response to the coronavirus outbreak, which includes a rare postponement of the annual meeting of its parliament. This comes as more cases are reported worldwide and governments struggle to contain the virus. … [+351 chars]\"}, {'source': {'id': 'bbc-news', 'name': 'BBC News'}, 'author': 'https://www.facebook.com/bbcnews', 'title': 'BTS ask fans to avoid their shows over coronavirus fears', 'description': \"The band's upcoming shows will be taped without an audience after the virus spreads to Korea.\", 'url': 'https://www.bbc.co.uk/news/entertainment-arts-51613223', 'urlToImage': 'https://ichef.bbci.co.uk/news/1024/branded_news/15223/production/_110936568_8ad8a3e5-6862-4455-84ab-1dd49a091ef6.jpg', 'publishedAt': '2020-02-24T14:25:31Z', 'content': 'Image copyrightGetty ImagesImage caption\\r\\n The band are set to go to number one this weekend with their latest album, Map Of The Soul: 7\\r\\nPop group BTS have asked fans to stay away from their upcoming shows to prevent the spread of coronavirus.\\r\\nThe South Kor… [+2961 chars]'}, {'source': {'id': 'bbc-news', 'name': 'BBC News'}, 'author': 'https://www.facebook.com/bbcnews', 'title': \"Coronavirus: UK 'well prepared' to deal with cases, says government\", 'description': 'The number of UK cases rose to 13 after cruise ship passengers returned to Britain on Saturday.', 'url': 'https://www.bbc.co.uk/news/uk-51612039', 'urlToImage': 'https://ichef.bbci.co.uk/news/1024/branded_news/70BD/production/_111016882_coachescarryingpassengersthathavebeenrepatriatedtotheukfromacruiseshiphitbythecoronavirusinyokohamajapanarriveatarroweparkhospitalonthewirralwherepa.jpg', 'publishedAt': '2020-02-24T14:16:27Z', 'content': 'Image copyrightPA MediaImage caption\\r\\n Evacuees from the Diamond Princess cruise ship were taken to Arrowe Park Hospital on Saturday\\r\\nThe UK is \"well prepared\" to deal with coronavirus cases and the risk to individuals \"remains low\", the government has said.\\r… [+4099 chars]'}, {'source': {'id': 'bbc-news', 'name': 'BBC News'}, 'author': 'https://www.facebook.com/bbcnews', 'title': \"UK's 5G network well within safety limits, Ofcom tests find\", 'description': 'Ofcom testing of the UK\\'s 5G network finds radiation is at a \"small fraction\" of safe levels.', 'url': 'https://www.bbc.co.uk/news/technology-51613580', 'urlToImage': 'https://ichef.bbci.co.uk/news/1024/branded_news/0EA7/production/_111015730_gettyimages-1139497529.jpg', 'publishedAt': '2020-02-24T14:06:48Z', 'content': 'Image copyrightGetty ImagesImage caption\\r\\n Protesters - like this man in Warsaw in April - have rallied against 5G\\r\\nThe first UK safety tests of 5G base stations has found radiation levels are at \"small fractions\" of safe limits.\\r\\nThe rollout of ultra-fast 5G… [+3083 chars]'}, {'source': {'id': 'bbc-news', 'name': 'BBC News'}, 'author': None, 'title': 'Coronavirus: Inter Milan v Ludogrets in Europa League expected to be behind closed doors', 'description': 'Inter Milan are expected to play their home Europa League match against Ludogorets behind closed doors because of fears about coronavirus.', 'url': 'https://www.bbc.co.uk/sport/football/51611932', 'urlToImage': 'https://ichef.bbci.co.uk/onesport/cps/624/cpsprodpb/112A7/production/_111011307_gettyimages-1202440977.jpg', 'publishedAt': '2020-02-24T12:57:30Z', 'content': 'Roma fans were seen taking precautions because of fears of the spread of coronavirus at the weekend\\r\\nInter Milan are expected to play their home Europa League last-32 match against Ludogorets behind closed doors because of fears about the spread of coronaviru… [+1422 chars]'}, {'source': {'id': 'bbc-news', 'name': 'BBC News'}, 'author': None, 'title': 'Ospreys and Ulster games in Italy postponed because of Coronavirus fears', 'description': \"Ospreys and Ulster's Pro14 trips to play in Italy at the weekend are postponed as sporting bodies react to the spread of coronavirus.\", 'url': 'https://www.bbc.co.uk/sport/rugby-union/51615577', 'urlToImage': 'https://ichef.bbci.co.uk/onesport/cps/624/cpsprodpb/B681/production/_111012764_coronavirus_getty.jpg', 'publishedAt': '2020-02-24T12:06:38Z', 'content': \"Ospreys and Ulster's Pro14 trips to play in Italy at the weekend have been postponed as sporting bodies react to the spread of coronavirus.\\r\\nFears are growing that the outbreak could become a pandemic as more cases emerge around the world with Italy having re… [+2046 chars]\"}, {'source': {'id': 'bbc-news', 'name': 'BBC News'}, 'author': 'https://www.facebook.com/bbcnews', 'title': 'Coronavirus: Iran denies cover-up as death toll rises to 12', 'description': \"A minister rejects a claim that 50 people have died in Qom, the centre of Iran's Covid-19 outbreak.\", 'url': 'https://www.bbc.co.uk/news/world-middle-east-51614920', 'urlToImage': 'https://ichef.bbci.co.uk/news/1024/branded_news/F7C7/production/_111013436_mediaitem111013432.jpg', 'publishedAt': '2020-02-24T11:49:58Z', 'content': \"Image copyrightEPAImage caption\\r\\n Iran reported its first deaths from the coronavirus disease last Wednesday\\r\\nIran's deputy health minister has denied a claim of a cover-up over the new coronavirus disease, as the number of confirmed deaths there rose to 12.\\r… [+1327 chars]\"}, {'source': {'id': 'bbc-news', 'name': 'BBC News'}, 'author': 'BBC News', 'title': \"Coronavirus: On the edge of Italy's lockdown area\", 'description': \"Italian police have quarantined the town of Codogno, centre of Italy's coronavirus outbreak.\", 'url': 'https://www.bbc.co.uk/news/av/world-europe-51614208/coronavirus-on-the-edge-of-italy-s-lockdown-area', 'urlToImage': 'https://ichef.bbci.co.uk/news/1024/branded_news/170DF/production/_111013449_p084kjcg.jpg', 'publishedAt': '2020-02-24T10:42:22Z', 'content': None}, {'source': {'id': 'bbc-news', 'name': 'BBC News'}, 'author': 'https://www.facebook.com/bbcnews', 'title': 'Gold price at seven-year high on coronavirus fears', 'description': 'Investors are flocking to the precious metal and jettisoning shares as the virus continues to spread.', 'url': 'https://www.bbc.co.uk/news/business-51612520', 'urlToImage': 'https://ichef.bbci.co.uk/news/1024/branded_news/1712F/production/_111011549_gold_bars.jpg', 'publishedAt': '2020-02-24T08:48:27Z', 'content': 'Image copyrightAFP\\r\\nThe price of gold has surged to its highest level in seven years as worries about the coronavirus led investors to seek a safe place for their money.\\r\\nGold prices climbed more than 2% on Monday to levels not seen since February 2013.\\r\\nThe … [+692 chars]'}, {'source': {'id': 'bbc-news', 'name': 'BBC News'}, 'author': 'BBC News', 'title': 'Coronavirus: Drone captures massive queue for masks in South Korea', 'description': 'Hundreds queued at a supermarket in Daegu, one of the South Korean epicentres of the virus outbreak.', 'url': 'https://www.bbc.co.uk/news/av/world-asia-51609712/coronavirus-drone-captures-massive-queue-for-masks-in-south-korea', 'urlToImage': 'https://ichef.bbci.co.uk/news/1024/branded_news/3D4A/production/_111009651_p084jxb0.jpg', 'publishedAt': '2020-02-24T08:37:39Z', 'content': None}, {'source': {'id': 'bbc-news', 'name': 'BBC News'}, 'author': 'https://www.facebook.com/bbcnews', 'title': 'Coronavirus: Rapid spread raises fears of global pandemic', 'description': 'More infections are reported around the world as governments struggle to contain outbreaks.', 'url': 'https://www.bbc.co.uk/news/world-51611422', 'urlToImage': 'https://ichef.bbci.co.uk/news/1024/branded_news/5F5B/production/_111011442_060186070.jpg', 'publishedAt': '2020-02-24T08:23:00Z', 'content': 'Image copyrightAFPImage caption\\r\\n South Korea has the largest number of infections outside China\\r\\nFears are growing that the coronavirus outbreak could become a global pandemic as new cases are reported around the world.\\r\\nAlthough most infections are in China… [+4404 chars]'}, {'source': {'id': 'bbc-news', 'name': 'BBC News'}, 'author': 'https://www.facebook.com/bbcnews', 'title': 'News Daily: Coronavirus spreading, UK housing gap and Whitehall tensions', 'description': 'Your morning briefing for Monday 24 February 2020.', 'url': 'https://www.bbc.co.uk/news/uk-51601711', 'urlToImage': 'https://ichef.bbci.co.uk/news/1024/branded_news/5438/production/_111006512_060168457.jpg', 'publishedAt': '2020-02-24T06:33:02Z', 'content': 'If you want to get this briefing by email, sign up here\\r\\nPandemic fears grow\\r\\nImage copyrightReutersImage caption\\r\\n The colourful Venice Carnival draws thousands of visitors to the city every year\\r\\nCoronavirus has now spread to 29 countries, with more than 2,… [+5793 chars]'}, {'source': {'id': 'bbc-news', 'name': 'BBC News'}, 'author': 'https://www.facebook.com/bbcnews', 'title': 'Coronavirus: North Korea quarantines foreigners amid fears', 'description': 'Meanwhile, South Korea has quarantined 7,700 troops after an outbreak in the military.', 'url': 'https://www.bbc.co.uk/news/world-asia-51609360', 'urlToImage': 'https://ichef.bbci.co.uk/news/1024/branded_news/0956/production/_111009320_gettyimages-1199135089.jpg', 'publishedAt': '2020-02-24T04:08:16Z', 'content': 'Image copyrightGetty ImagesImage caption\\r\\n North Korea is taking precautions to keep the virus out\\r\\nNorth Korea has quarantined 380 foreigners in a bid to stop the coronavirus from breaking out.\\r\\nThe foreigners are mostly diplomats stationed in the capital Py… [+4677 chars]'}, {'source': {'id': 'bbc-news', 'name': 'BBC News'}, 'author': 'https://www.facebook.com/bbcnews', 'title': 'Virus credit crunch hits millions of Chinese firms', 'description': 'Prolonged shutdowns for businesses in China are bringing many firms to the brink of survival.', 'url': 'https://www.bbc.co.uk/news/business-51609260', 'urlToImage': 'https://ichef.bbci.co.uk/news/1024/branded_news/5C26/production/_111009532_beijingvirus.jpg', 'publishedAt': '2020-02-24T04:06:45Z', 'content': 'Image copyrightGetty ImagesImage caption\\r\\n A man wears a protective face mask as he walks in the normally bustling Wangfujing shopping street in central Beijing\\r\\nMounting debts have hit Chinese companies struggling to pay workers and suppliers amid the corona… [+1627 chars]'}, {'source': {'id': 'bbc-news', 'name': 'BBC News'}, 'author': None, 'title': 'Venice carnival closes amid coronavirus outbreak', 'description': 'Italy quarantines whole towns, closes schools and cancels sports fixtures as infections increase. Also: protests in Budapest against anti-Roma campaign, and celebrating the theremin -- the Soviet-invented hands-free electronic instrument.', 'url': 'https://www.bbc.co.uk/programmes/p084hmcf', 'urlToImage': 'https://ichef.bbci.co.uk/images/ic/1200x675/p07zqpb8.jpg', 'publishedAt': '2020-02-24T00:02:00Z', 'content': 'Italy quarantines whole towns, closes schools and cancels sports fixtures as infections increase. Also: protests in Budapest against anti-Roma campaign, and celebrating the theremin -- the Soviet-invented hands-free electronic instrument.'}]}\n"
     ]
    }
   ],
   "source": [
    "myDate = '2020-02-24'\n",
    "mySource = 'bbc-news'\n",
    "bbc_news = newsapi.get_everything(q='coronavirus',\n",
    "                                      sources=mySource,\n",
    "                                      from_param=myDate,\n",
    "                                      to=myDate,\n",
    "                                      language='en',\n",
    "                                      sort_by='relevancy',\n",
    "                                      page_size=100)\n",
    "\n",
    "print(scraped_news)\n",
    "\n",
    "with open(\"test.json\", \"w\") as outfile:\n",
    "    json.dump(scraped_news, outfile, indent=4)"
   ]
  },
  {
   "cell_type": "code",
   "execution_count": 15,
   "metadata": {},
   "outputs": [
    {
     "name": "stdout",
     "output_type": "stream",
     "text": [
      "{'status': 'ok', 'totalResults': 20, 'articles': [{'source': {'id': 'bbc-news', 'name': 'BBC News'}, 'author': None, 'title': 'Harvey Weinstein convicted of rape and sexual assault', 'description': 'The film producer was found guilty of two of the five charges he faced. Also, the WHO urges countries to prepare for a possible coronavirus pandemic, and a man is arrested in Germany after a car drove into people at a carnival.', 'url': 'https://www.bbc.co.uk/programmes/p084nd3v', 'urlToImage': 'https://ichef.bbci.co.uk/images/ic/1200x675/p07zqpb8.jpg', 'publishedAt': '2020-02-24T23:38:00Z', 'content': 'The film producer was found guilty of two of the five charges he faced. Also, the WHO urges countries to prepare for a possible coronavirus pandemic, and a man is arrested in Germany after a car drove into people at a carnival.'}, {'source': {'id': 'bbc-news', 'name': 'BBC News'}, 'author': 'https://www.facebook.com/bbcnews', 'title': \"The Papers: Harvey Weinstein 'locked up at last'\", 'description': \"Tuesday's front pages cover the producer's guilty verdict, and new coronavirus measures in the UK.\", 'url': 'https://www.bbc.co.uk/news/blogs-the-papers-51623430', 'urlToImage': 'https://ichef.bbci.co.uk/news/1024/branded_news/E706/production/_111024195_telegraph.jpg', 'publishedAt': '2020-02-24T23:37:08Z', 'content': None}, {'source': {'id': 'bbc-news', 'name': 'BBC News'}, 'author': 'BBC News', 'title': \"'I'm not leaving China without my dog'\", 'description': 'A Ukrainian woman has told the BBC why she decided to decline evacuation and stay in the coronavirus stricken Chinese city of Wuhan.', 'url': 'https://www.bbc.co.uk/news/av/world-europe-51621071/i-m-not-leaving-china-without-my-dog', 'urlToImage': 'https://ichef.bbci.co.uk/news/1024/branded_news/1784C/production/_111023369_p084mjd4.jpg', 'publishedAt': '2020-02-24T18:40:41Z', 'content': None}, {'source': {'id': 'bbc-news', 'name': 'BBC News'}, 'author': 'https://www.facebook.com/bbcnews', 'title': 'Coronavirus: Your rights as a traveller', 'description': 'The coronavirus has already become a nightmare for travellers and the tourism industry alike.', 'url': 'https://www.bbc.co.uk/news/business-51615412', 'urlToImage': 'https://ichef.bbci.co.uk/news/1024/branded_news/D8D7/production/_111011555_scan_afp.jpg', 'publishedAt': '2020-02-24T16:03:51Z', 'content': \"Image copyrightAFPImage caption\\r\\n Thermal scans intended to detect the coronavirus are becoming widespread at airports\\r\\nWith new cases of the coronavirus being diagnosed in more and more locations, it's hard to predict where it will pop up next.\\r\\nBut one thin… [+4691 chars]\"}, {'source': {'id': 'bbc-news', 'name': 'BBC News'}, 'author': None, 'title': 'Coronavirus spread raises fears of global pandemic', 'description': \"There are concerns about cases in countries with a weak health infrastructure like Iraq and Afghanistan. US President Donald Trump visits India. The world's oldest prime minister, Mahathir Mohamad, has submitted his shock resignation.\", 'url': 'https://www.bbc.co.uk/programmes/p084lvrp', 'urlToImage': 'https://ichef.bbci.co.uk/images/ic/1200x675/p07zqpb8.jpg', 'publishedAt': '2020-02-24T15:27:00Z', 'content': \"There are concerns about cases in countries with a weak health infrastructure like Iraq and Afghanistan. US President Donald Trump visits India. The world's oldest prime minister, Mahathir Mohamad, has submitted his shock resignation.\"}, {'source': {'id': 'bbc-news', 'name': 'BBC News'}, 'author': None, 'title': 'Coronavirus: soon a pandemic?', 'description': \"The World Health Organisation has praised China's response to the coronavirus outbreak, which includes a rare postponement of the annual meeting of its parliament. This comes as more cases are reported worldwide and governments struggle to contain the virus. …\", 'url': 'https://www.bbc.co.uk/programmes/w172wq56p7pmrxp', 'urlToImage': 'https://ichef.bbci.co.uk/images/ic/1200x675/p084lb1w.jpg', 'publishedAt': '2020-02-24T15:18:00Z', 'content': \"The World Health Organisation has praised China's response to the coronavirus outbreak, which includes a rare postponement of the annual meeting of its parliament. This comes as more cases are reported worldwide and governments struggle to contain the virus. … [+351 chars]\"}, {'source': {'id': 'bbc-news', 'name': 'BBC News'}, 'author': 'https://www.facebook.com/bbcnews', 'title': 'BTS ask fans to avoid their shows over coronavirus fears', 'description': \"The band's upcoming shows will be taped without an audience after the virus spreads to Korea.\", 'url': 'https://www.bbc.co.uk/news/entertainment-arts-51613223', 'urlToImage': 'https://ichef.bbci.co.uk/news/1024/branded_news/15223/production/_110936568_8ad8a3e5-6862-4455-84ab-1dd49a091ef6.jpg', 'publishedAt': '2020-02-24T14:25:31Z', 'content': 'Image copyrightGetty ImagesImage caption\\r\\n The band are set to go to number one this weekend with their latest album, Map Of The Soul: 7\\r\\nPop group BTS have asked fans to stay away from their upcoming shows to prevent the spread of coronavirus.\\r\\nThe South Kor… [+2961 chars]'}, {'source': {'id': 'bbc-news', 'name': 'BBC News'}, 'author': 'https://www.facebook.com/bbcnews', 'title': \"Coronavirus: UK 'well prepared' to deal with cases, says government\", 'description': 'The number of UK cases rose to 13 after cruise ship passengers returned to Britain on Saturday.', 'url': 'https://www.bbc.co.uk/news/uk-51612039', 'urlToImage': 'https://ichef.bbci.co.uk/news/1024/branded_news/70BD/production/_111016882_coachescarryingpassengersthathavebeenrepatriatedtotheukfromacruiseshiphitbythecoronavirusinyokohamajapanarriveatarroweparkhospitalonthewirralwherepa.jpg', 'publishedAt': '2020-02-24T14:16:27Z', 'content': 'Image copyrightPA MediaImage caption\\r\\n Evacuees from the Diamond Princess cruise ship were taken to Arrowe Park Hospital on Saturday\\r\\nThe UK is \"well prepared\" to deal with coronavirus cases and the risk to individuals \"remains low\", the government has said.\\r… [+4099 chars]'}, {'source': {'id': 'bbc-news', 'name': 'BBC News'}, 'author': 'https://www.facebook.com/bbcnews', 'title': \"UK's 5G network well within safety limits, Ofcom tests find\", 'description': 'Ofcom testing of the UK\\'s 5G network finds radiation is at a \"small fraction\" of safe levels.', 'url': 'https://www.bbc.co.uk/news/technology-51613580', 'urlToImage': 'https://ichef.bbci.co.uk/news/1024/branded_news/0EA7/production/_111015730_gettyimages-1139497529.jpg', 'publishedAt': '2020-02-24T14:06:48Z', 'content': 'Image copyrightGetty ImagesImage caption\\r\\n Protesters - like this man in Warsaw in April - have rallied against 5G\\r\\nThe first UK safety tests of 5G base stations has found radiation levels are at \"small fractions\" of safe limits.\\r\\nThe rollout of ultra-fast 5G… [+3083 chars]'}, {'source': {'id': 'bbc-news', 'name': 'BBC News'}, 'author': None, 'title': 'Coronavirus: Inter Milan v Ludogrets in Europa League expected to be behind closed doors', 'description': 'Inter Milan are expected to play their home Europa League match against Ludogorets behind closed doors because of fears about coronavirus.', 'url': 'https://www.bbc.co.uk/sport/football/51611932', 'urlToImage': 'https://ichef.bbci.co.uk/onesport/cps/624/cpsprodpb/112A7/production/_111011307_gettyimages-1202440977.jpg', 'publishedAt': '2020-02-24T12:57:30Z', 'content': 'Roma fans were seen taking precautions because of fears of the spread of coronavirus at the weekend\\r\\nInter Milan are expected to play their home Europa League last-32 match against Ludogorets behind closed doors because of fears about the spread of coronaviru… [+1422 chars]'}, {'source': {'id': 'bbc-news', 'name': 'BBC News'}, 'author': None, 'title': 'Ospreys and Ulster games in Italy postponed because of Coronavirus fears', 'description': \"Ospreys and Ulster's Pro14 trips to play in Italy at the weekend are postponed as sporting bodies react to the spread of coronavirus.\", 'url': 'https://www.bbc.co.uk/sport/rugby-union/51615577', 'urlToImage': 'https://ichef.bbci.co.uk/onesport/cps/624/cpsprodpb/B681/production/_111012764_coronavirus_getty.jpg', 'publishedAt': '2020-02-24T12:06:38Z', 'content': \"Ospreys and Ulster's Pro14 trips to play in Italy at the weekend have been postponed as sporting bodies react to the spread of coronavirus.\\r\\nFears are growing that the outbreak could become a pandemic as more cases emerge around the world with Italy having re… [+2046 chars]\"}, {'source': {'id': 'bbc-news', 'name': 'BBC News'}, 'author': 'https://www.facebook.com/bbcnews', 'title': 'Coronavirus: Iran denies cover-up as death toll rises to 12', 'description': \"A minister rejects a claim that 50 people have died in Qom, the centre of Iran's Covid-19 outbreak.\", 'url': 'https://www.bbc.co.uk/news/world-middle-east-51614920', 'urlToImage': 'https://ichef.bbci.co.uk/news/1024/branded_news/F7C7/production/_111013436_mediaitem111013432.jpg', 'publishedAt': '2020-02-24T11:49:58Z', 'content': \"Image copyrightEPAImage caption\\r\\n Iran reported its first deaths from the coronavirus disease last Wednesday\\r\\nIran's deputy health minister has denied a claim of a cover-up over the new coronavirus disease, as the number of confirmed deaths there rose to 12.\\r… [+1327 chars]\"}, {'source': {'id': 'bbc-news', 'name': 'BBC News'}, 'author': 'BBC News', 'title': \"Coronavirus: On the edge of Italy's lockdown area\", 'description': \"Italian police have quarantined the town of Codogno, centre of Italy's coronavirus outbreak.\", 'url': 'https://www.bbc.co.uk/news/av/world-europe-51614208/coronavirus-on-the-edge-of-italy-s-lockdown-area', 'urlToImage': 'https://ichef.bbci.co.uk/news/1024/branded_news/170DF/production/_111013449_p084kjcg.jpg', 'publishedAt': '2020-02-24T10:42:22Z', 'content': None}, {'source': {'id': 'bbc-news', 'name': 'BBC News'}, 'author': 'https://www.facebook.com/bbcnews', 'title': 'Gold price at seven-year high on coronavirus fears', 'description': 'Investors are flocking to the precious metal and jettisoning shares as the virus continues to spread.', 'url': 'https://www.bbc.co.uk/news/business-51612520', 'urlToImage': 'https://ichef.bbci.co.uk/news/1024/branded_news/1712F/production/_111011549_gold_bars.jpg', 'publishedAt': '2020-02-24T08:48:27Z', 'content': 'Image copyrightAFP\\r\\nThe price of gold has surged to its highest level in seven years as worries about the coronavirus led investors to seek a safe place for their money.\\r\\nGold prices climbed more than 2% on Monday to levels not seen since February 2013.\\r\\nThe … [+692 chars]'}, {'source': {'id': 'bbc-news', 'name': 'BBC News'}, 'author': 'BBC News', 'title': 'Coronavirus: Drone captures massive queue for masks in South Korea', 'description': 'Hundreds queued at a supermarket in Daegu, one of the South Korean epicentres of the virus outbreak.', 'url': 'https://www.bbc.co.uk/news/av/world-asia-51609712/coronavirus-drone-captures-massive-queue-for-masks-in-south-korea', 'urlToImage': 'https://ichef.bbci.co.uk/news/1024/branded_news/3D4A/production/_111009651_p084jxb0.jpg', 'publishedAt': '2020-02-24T08:37:39Z', 'content': None}, {'source': {'id': 'bbc-news', 'name': 'BBC News'}, 'author': 'https://www.facebook.com/bbcnews', 'title': 'Coronavirus: Rapid spread raises fears of global pandemic', 'description': 'More infections are reported around the world as governments struggle to contain outbreaks.', 'url': 'https://www.bbc.co.uk/news/world-51611422', 'urlToImage': 'https://ichef.bbci.co.uk/news/1024/branded_news/5F5B/production/_111011442_060186070.jpg', 'publishedAt': '2020-02-24T08:23:00Z', 'content': 'Image copyrightAFPImage caption\\r\\n South Korea has the largest number of infections outside China\\r\\nFears are growing that the coronavirus outbreak could become a global pandemic as new cases are reported around the world.\\r\\nAlthough most infections are in China… [+4404 chars]'}, {'source': {'id': 'bbc-news', 'name': 'BBC News'}, 'author': 'https://www.facebook.com/bbcnews', 'title': 'News Daily: Coronavirus spreading, UK housing gap and Whitehall tensions', 'description': 'Your morning briefing for Monday 24 February 2020.', 'url': 'https://www.bbc.co.uk/news/uk-51601711', 'urlToImage': 'https://ichef.bbci.co.uk/news/1024/branded_news/5438/production/_111006512_060168457.jpg', 'publishedAt': '2020-02-24T06:33:02Z', 'content': 'If you want to get this briefing by email, sign up here\\r\\nPandemic fears grow\\r\\nImage copyrightReutersImage caption\\r\\n The colourful Venice Carnival draws thousands of visitors to the city every year\\r\\nCoronavirus has now spread to 29 countries, with more than 2,… [+5793 chars]'}, {'source': {'id': 'bbc-news', 'name': 'BBC News'}, 'author': 'https://www.facebook.com/bbcnews', 'title': 'Coronavirus: North Korea quarantines foreigners amid fears', 'description': 'Meanwhile, South Korea has quarantined 7,700 troops after an outbreak in the military.', 'url': 'https://www.bbc.co.uk/news/world-asia-51609360', 'urlToImage': 'https://ichef.bbci.co.uk/news/1024/branded_news/0956/production/_111009320_gettyimages-1199135089.jpg', 'publishedAt': '2020-02-24T04:08:16Z', 'content': 'Image copyrightGetty ImagesImage caption\\r\\n North Korea is taking precautions to keep the virus out\\r\\nNorth Korea has quarantined 380 foreigners in a bid to stop the coronavirus from breaking out.\\r\\nThe foreigners are mostly diplomats stationed in the capital Py… [+4677 chars]'}, {'source': {'id': 'bbc-news', 'name': 'BBC News'}, 'author': 'https://www.facebook.com/bbcnews', 'title': 'Virus credit crunch hits millions of Chinese firms', 'description': 'Prolonged shutdowns for businesses in China are bringing many firms to the brink of survival.', 'url': 'https://www.bbc.co.uk/news/business-51609260', 'urlToImage': 'https://ichef.bbci.co.uk/news/1024/branded_news/5C26/production/_111009532_beijingvirus.jpg', 'publishedAt': '2020-02-24T04:06:45Z', 'content': 'Image copyrightGetty ImagesImage caption\\r\\n A man wears a protective face mask as he walks in the normally bustling Wangfujing shopping street in central Beijing\\r\\nMounting debts have hit Chinese companies struggling to pay workers and suppliers amid the corona… [+1627 chars]'}, {'source': {'id': 'bbc-news', 'name': 'BBC News'}, 'author': None, 'title': 'Venice carnival closes amid coronavirus outbreak', 'description': 'Italy quarantines whole towns, closes schools and cancels sports fixtures as infections increase. Also: protests in Budapest against anti-Roma campaign, and celebrating the theremin -- the Soviet-invented hands-free electronic instrument.', 'url': 'https://www.bbc.co.uk/programmes/p084hmcf', 'urlToImage': 'https://ichef.bbci.co.uk/images/ic/1200x675/p07zqpb8.jpg', 'publishedAt': '2020-02-24T00:02:00Z', 'content': 'Italy quarantines whole towns, closes schools and cancels sports fixtures as infections increase. Also: protests in Budapest against anti-Roma campaign, and celebrating the theremin -- the Soviet-invented hands-free electronic instrument.'}]}\n"
     ]
    }
   ],
   "source": [
    "myDate = '2020-02-24'\n",
    "mySource = 'bbc-news'\n",
    "bbc_news = newsapi.get_everything(q='coronavirus',\n",
    "                                      sources=mySource,\n",
    "                                      from_param=myDate,\n",
    "                                      to=myDate,\n",
    "                                      language='en',\n",
    "                                      sort_by='popularity',\n",
    "                                      page_size=100)\n",
    "\n",
    "print(scraped_news)\n",
    "\n",
    "with open(\"test.json\", \"w\") as outfile:\n",
    "    json.dump(scraped_news, outfile, indent=4)"
   ]
  },
  {
   "cell_type": "code",
   "execution_count": 15,
   "metadata": {},
   "outputs": [
    {
     "data": {
      "text/plain": [
       "'bbc-news'"
      ]
     },
     "execution_count": 15,
     "metadata": {},
     "output_type": "execute_result"
    }
   ],
   "source": [
    "mySource\n"
   ]
  }
 ],
 "metadata": {
  "kernelspec": {
   "display_name": "Python [conda env:PythonData] *",
   "language": "python",
   "name": "conda-env-PythonData-py"
  },
  "language_info": {
   "codemirror_mode": {
    "name": "ipython",
    "version": 3
   },
   "file_extension": ".py",
   "mimetype": "text/x-python",
   "name": "python",
   "nbconvert_exporter": "python",
   "pygments_lexer": "ipython3",
   "version": "3.6.9"
  }
 },
 "nbformat": 4,
 "nbformat_minor": 2
}
