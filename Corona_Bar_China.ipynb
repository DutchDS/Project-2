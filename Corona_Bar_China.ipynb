{
 "cells": [
  {
   "cell_type": "code",
   "execution_count": 30,
   "metadata": {},
   "outputs": [
    {
     "name": "stdout",
     "output_type": "stream",
     "text": [
      "select date, \n",
      "\tsum(conf_count) confirmed, \n",
      "\tsum(susp_count) suspected,\n",
      "\tsum(cured_count) cured,\n",
      "\tsum(dead_count) dead\n",
      "from daily_stats \n",
      "group by date \n",
      "order by date\n"
     ]
    },
    {
     "data": {
      "text/plain": [
       "'{\"date\":{\"0\":\"2020-01-26\",\"1\":\"2020-01-27\",\"2\":\"2020-01-28\",\"3\":\"2020-01-29\",\"4\":\"2020-01-30\",\"5\":\"2020-01-31\",\"6\":\"2020-02-01\",\"7\":\"2020-02-02\",\"8\":\"2020-02-03\",\"9\":\"2020-02-04\",\"10\":\"2020-02-05\",\"11\":\"2020-02-06\",\"12\":\"2020-02-07\",\"13\":\"2020-02-08\",\"14\":\"2020-02-09\",\"15\":\"2020-02-10\",\"16\":\"2020-02-11\",\"17\":\"2020-02-12\",\"18\":\"2020-02-13\",\"19\":\"2020-02-14\",\"20\":\"2020-02-15\",\"21\":\"2020-02-16\",\"22\":\"2020-02-17\",\"23\":\"2020-02-18\",\"24\":\"2020-02-19\",\"25\":\"2020-02-20\",\"26\":\"2020-02-21\"},\"confirmed\":{\"0\":1812.0,\"1\":2081.0,\"2\":2858.0,\"3\":4633.0,\"4\":6095.0,\"5\":8150.0,\"6\":11230.0,\"7\":13831.0,\"8\":14525.0,\"9\":19690.0,\"10\":20540.0,\"11\":27434.0,\"12\":31180.0,\"13\":34293.0,\"14\":36895.0,\"15\":39824.0,\"16\":42718.0,\"17\":44742.0,\"18\":44767.0,\"19\":63935.0,\"20\":66413.0,\"21\":68586.0,\"22\":70639.0,\"23\":72531.0,\"24\":74280.0,\"25\":74675.0,\"26\":74690.0},\"suspected\":{\"0\":0.0,\"1\":0.0,\"2\":0.0,\"3\":0.0,\"4\":1.0,\"5\":0.0,\"6\":0.0,\"7\":0.0,\"8\":1.0,\"9\":0.0,\"10\":2.0,\"11\":0.0,\"12\":166.0,\"13\":0.0,\"14\":23710.0,\"15\":0.0,\"16\":0.0,\"17\":0.0,\"18\":0.0,\"19\":0.0,\"20\":0.0,\"21\":0.0,\"22\":0.0,\"23\":0.0,\"24\":0.0,\"25\":0.0,\"26\":0.0},\"cured\":{\"0\":49.0,\"1\":49.0,\"2\":56.0,\"3\":73.0,\"4\":120.0,\"5\":135.0,\"6\":70.0,\"7\":322.0,\"8\":435.0,\"9\":527.0,\"10\":718.0,\"11\":1115.0,\"12\":1537.0,\"13\":2004.0,\"14\":2599.0,\"15\":3216.0,\"16\":4060.0,\"17\":4778.0,\"18\":5066.0,\"19\":6809.0,\"20\":7987.0,\"21\":9550.0,\"22\":11049.0,\"23\":12838.0,\"24\":14571.0,\"25\":16254.0,\"26\":16749.0},\"dead\":{\"0\":55.0,\"1\":56.0,\"2\":82.0,\"3\":106.0,\"4\":133.0,\"5\":171.0,\"6\":258.0,\"7\":304.0,\"8\":305.0,\"9\":425.0,\"10\":426.0,\"11\":563.0,\"12\":637.0,\"13\":719.0,\"14\":808.0,\"15\":905.0,\"16\":1017.0,\"17\":1114.0,\"18\":1117.0,\"19\":1381.0,\"20\":1521.0,\"21\":1666.0,\"22\":1772.0,\"23\":1871.0,\"24\":2009.0,\"25\":2121.0,\"26\":2124.0}}'"
      ]
     },
     "execution_count": 30,
     "metadata": {},
     "output_type": "execute_result"
    }
   ],
   "source": [
    "import pandas as pd\n",
    "from sqlalchemy import create_engine\n",
    "import datetime\n",
    "import os\n",
    "# Python SQL toolkit and Object Relational Mapper\n",
    "# import sqlalchemy\n",
    "# from sqlalchemy.ext.automap import automap_base\n",
    "# from sqlalchemy.orm import Session\n",
    "# from sqlalchemy import create_engine, func\n",
    "\n",
    "connection_string = \"postgres:postgres@localhost:5432/corona_db\"\n",
    "engine = create_engine(f'postgresql://{connection_string}')\n",
    "# # reflect an existing database into a new model\n",
    "# Base = automap_base()\n",
    "# # reflect the tables\n",
    "# Base.prepare(engine, reflect=True)\n",
    "# # We can view all of the classes that automap found\n",
    "# Base.classes.keys()\n",
    "\n",
    "query_str = open('static/sql/test_query.sql')\n",
    "query_text = \"\"\n",
    "for text in query_str:\n",
    "    query_text = query_text + text\n",
    "      \n",
    "print(query_text)\n",
    "df_query = pd.read_sql_query(query_text, con=engine)\n",
    "df_query.to_json()"
   ]
  },
  {
   "cell_type": "code",
   "execution_count": 24,
   "metadata": {},
   "outputs": [],
   "source": [
    "# sel = [daily_stats.date, func.sum(daily_stats.confirmed), func.sum(daily_stats.cured), func.sum(daily_stats.dead)]\n",
    "# most_active = session.query(*sel).group_by(daily_stats.date).order_by(daily_stats.date).all()\n",
    "# df_query = pd.read_sql_query(most_active, con=engine)"
   ]
  },
  {
   "cell_type": "code",
   "execution_count": null,
   "metadata": {},
   "outputs": [],
   "source": []
  }
 ],
 "metadata": {
  "kernelspec": {
   "display_name": "Python 3.6.9 64-bit ('PythonData': conda)",
   "language": "python",
   "name": "python36964bitpythondataconda85574f336fe84089b321fb02028434bc"
  },
  "language_info": {
   "codemirror_mode": {
    "name": "ipython",
    "version": 3
   },
   "file_extension": ".py",
   "mimetype": "text/x-python",
   "name": "python",
   "nbconvert_exporter": "python",
   "pygments_lexer": "ipython3",
   "version": "3.6.9"
  }
 },
 "nbformat": 4,
 "nbformat_minor": 2
}
