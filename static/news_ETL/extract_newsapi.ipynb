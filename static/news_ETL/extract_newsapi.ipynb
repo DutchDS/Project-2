{
 "cells": [
  {
   "cell_type": "code",
   "execution_count": 1,
   "metadata": {},
   "outputs": [],
   "source": [
    "import os\n",
    "import csv\n",
    "import time\n",
    "import json\n",
    "from datetime import timedelta, date\n",
    "from config import newsapi_key\n",
    "from pathlib import Path\n",
    "from newsapi import NewsApiClient"
   ]
  },
  {
   "cell_type": "code",
   "execution_count": 2,
   "metadata": {},
   "outputs": [],
   "source": [
    "# print(newsapi_key)"
   ]
  },
  {
   "cell_type": "code",
   "execution_count": 3,
   "metadata": {},
   "outputs": [],
   "source": [
    "# Install newsou-python module into environment\n",
    "# $ pip install newsapi-python\n",
    "\n",
    "# Usage\n",
    "# from newsapi import NewsApiClient"
   ]
  },
  {
   "cell_type": "code",
   "execution_count": 4,
   "metadata": {},
   "outputs": [],
   "source": [
    "# Init newspai client\n",
    "newsapi = NewsApiClient(api_key=newsapi_key)"
   ]
  },
  {
   "cell_type": "code",
   "execution_count": 5,
   "metadata": {},
   "outputs": [
    {
     "name": "stdout",
     "output_type": "stream",
     "text": [
      "<newsapi.newsapi_client.NewsApiClient object at 0x000001E1FD109470>\n"
     ]
    }
   ],
   "source": [
    "print(newsapi)"
   ]
  },
  {
   "cell_type": "code",
   "execution_count": 6,
   "metadata": {},
   "outputs": [],
   "source": [
    "sources_to_check = [\n",
    "                    'bbc-news', \n",
    "                    'bloomberg', \n",
    "                    'breitbart-news', \n",
    "                    'cnn', \n",
    "                    'cbs-news',\n",
    "                    \"the-washington-post\", \n",
    "                    'the-wall-street-journal',\n",
    "                    'the-huffington-post',\n",
    "                    'reuters',\n",
    "                    'politico', \n",
    "                    'newsweek',\n",
    "                    'new-scientist',\n",
    "                    'national-geographic',\n",
    "                    'medical-news-today',\n",
    "                    'business-insider',\n",
    "                    'al-jazeera-english',\n",
    "                    \"associated-press\",\n",
    "                    'abc-news',\n",
    "                     'nbc-news',\n",
    "                     'national-review',\n",
    "                     'the-hill',\n",
    "                     \"the-globe-and-mail\",\n",
    "                     'fox-news',\n",
    "                     'msnbc',\n",
    "                     'fortune',\n",
    "                     'cnbc',\n",
    "#                     'google-news' \n",
    "                    ]"
   ]
  },
  {
   "cell_type": "code",
   "execution_count": 7,
   "metadata": {},
   "outputs": [
    {
     "name": "stdout",
     "output_type": "stream",
     "text": [
      "['2020-03-02', '2020-03-03']\n"
     ]
    }
   ],
   "source": [
    "# create a range of dates to query for news.\n",
    "def daterange(date1, date2):\n",
    "    for n in range(int ((date2 - date1).days)+1):\n",
    "        yield date1 + timedelta(n)\n",
    "\n",
    "start_dt = date(2020, 3, 2)\n",
    "end_dt = date(2020, 3, 3)\n",
    "dateList = []\n",
    "for dt in daterange(start_dt, end_dt):\n",
    "    dateList.append(dt.strftime(\"%Y-%m-%d\"))\n",
    "    \n",
    "print(dateList)"
   ]
  },
  {
   "cell_type": "code",
   "execution_count": 8,
   "metadata": {
    "scrolled": true
   },
   "outputs": [
    {
     "name": "stdout",
     "output_type": "stream",
     "text": [
      "['bbc-news', 'bloomberg', 'breitbart-news', 'cnn', 'cbs-news', 'the-washington-post', 'the-wall-street-journal', 'the-huffington-post', 'reuters', 'politico', 'newsweek', 'new-scientist', 'national-geographic', 'medical-news-today', 'business-insider', 'al-jazeera-english', 'associated-press', 'abc-news', 'nbc-news', 'national-review', 'the-hill', 'the-globe-and-mail', 'fox-news', 'msnbc', 'fortune', 'cnbc']\n"
     ]
    }
   ],
   "source": [
    "# mySources = sources_to_check[2:]\n",
    "# print(mySources)\n",
    "mySources = sources_to_check\n",
    "print(mySources)"
   ]
  },
  {
   "cell_type": "code",
   "execution_count": 9,
   "metadata": {},
   "outputs": [
    {
     "name": "stdout",
     "output_type": "stream",
     "text": [
      "Scraping news from bbc-news_2020-03-02.json\n",
      "Scraping news from bloomberg_2020-03-02.json\n",
      "Scraping news from breitbart-news_2020-03-02.json\n",
      "Scraping news from cnn_2020-03-02.json\n",
      "Scraping news from cbs-news_2020-03-02.json\n",
      "Scraping news from the-washington-post_2020-03-02.json\n",
      "Scraping news from the-wall-street-journal_2020-03-02.json\n",
      "Scraping news from the-huffington-post_2020-03-02.json\n",
      "Scraping news from reuters_2020-03-02.json\n",
      "Scraping news from politico_2020-03-02.json\n",
      "Scraping news from newsweek_2020-03-02.json\n",
      "Scraping news from new-scientist_2020-03-02.json\n",
      "Scraping news from national-geographic_2020-03-02.json\n",
      "Scraping news from medical-news-today_2020-03-02.json\n",
      "Scraping news from business-insider_2020-03-02.json\n",
      "Scraping news from al-jazeera-english_2020-03-02.json\n",
      "Scraping news from associated-press_2020-03-02.json\n",
      "Scraping news from abc-news_2020-03-02.json\n",
      "Scraping news from nbc-news_2020-03-02.json\n",
      "Scraping news from national-review_2020-03-02.json\n",
      "Scraping news from the-hill_2020-03-02.json\n",
      "Scraping news from the-globe-and-mail_2020-03-02.json\n",
      "Scraping news from fox-news_2020-03-02.json\n",
      "Scraping news from msnbc_2020-03-02.json\n",
      "Scraping news from fortune_2020-03-02.json\n",
      "Scraping news from cnbc_2020-03-02.json\n",
      "Scraping news from bbc-news_2020-03-03.json\n",
      "Scraping news from bloomberg_2020-03-03.json\n",
      "Scraping news from breitbart-news_2020-03-03.json\n",
      "Scraping news from cnn_2020-03-03.json\n",
      "Scraping news from cbs-news_2020-03-03.json\n",
      "Scraping news from the-washington-post_2020-03-03.json\n",
      "Scraping news from the-wall-street-journal_2020-03-03.json\n",
      "Scraping news from the-huffington-post_2020-03-03.json\n",
      "Scraping news from reuters_2020-03-03.json\n",
      "Scraping news from politico_2020-03-03.json\n",
      "Scraping news from newsweek_2020-03-03.json\n",
      "Scraping news from new-scientist_2020-03-03.json\n",
      "Scraping news from national-geographic_2020-03-03.json\n",
      "Scraping news from medical-news-today_2020-03-03.json\n",
      "Scraping news from business-insider_2020-03-03.json\n",
      "Scraping news from al-jazeera-english_2020-03-03.json\n",
      "Scraping news from associated-press_2020-03-03.json\n",
      "Scraping news from abc-news_2020-03-03.json\n",
      "Scraping news from nbc-news_2020-03-03.json\n",
      "Scraping news from national-review_2020-03-03.json\n",
      "Scraping news from the-hill_2020-03-03.json\n",
      "Scraping news from the-globe-and-mail_2020-03-03.json\n",
      "Scraping news from fox-news_2020-03-03.json\n",
      "Scraping news from msnbc_2020-03-03.json\n",
      "Scraping news from fortune_2020-03-03.json\n",
      "Scraping news from cnbc_2020-03-03.json\n"
     ]
    }
   ],
   "source": [
    "# Iterate News API by Date and then by News Source.  \n",
    "# Create News files for newsSource + date\n",
    "basePath = \"../newsdata\"\n",
    "Path(basePath).mkdir(parents=True, exist_ok=True)\n",
    "\n",
    "for myDate in dateList:\n",
    "    dirPath = basePath + \"/\" + myDate\n",
    "    Path(dirPath).mkdir(parents=True, exist_ok=True)\n",
    "    \n",
    "    for source in mySources:\n",
    "        filename = f\"{source}_{myDate}.json\"\n",
    "        filepath = dirPath + \"/\" + filename\n",
    "        print(f\"Scraping news from {filename}\")\n",
    "\n",
    "#        scraped_news = filepath\n",
    "        \n",
    "        scraped_news = newsapi.get_everything(q='coronavirus',\n",
    "                                          sources=source,\n",
    "                                          from_param=myDate,\n",
    "                                          to=myDate,\n",
    "                                          language='en',\n",
    "                                          sort_by='relevancy',\n",
    "                                          page_size=100)\n",
    "\n",
    "\n",
    "        with open(filepath, \"w\") as outfile:\n",
    "            json.dump(scraped_news, outfile, indent=4)\n"
   ]
  },
  {
   "cell_type": "code",
   "execution_count": null,
   "metadata": {},
   "outputs": [],
   "source": [
    "# new_sources= [\n",
    "# #                     'bbc-news', \n",
    "# #                     'bloomberg', \n",
    "# #                     'breitbart-news', \n",
    "# #                     'cnn', \n",
    "# #                     'cbs-news',\n",
    "# #                     \"the-washington-post\", \n",
    "# #                     'the-wall-street-journal',\n",
    "# #                     'the-huffington-post',\n",
    "# #                     'reuters',\n",
    "# #                     'politico', \n",
    "# #                     'newsweek',\n",
    "# #                     'new-scientist',\n",
    "# #                     'national-geographic',\n",
    "# #                     'medical-news-today',\n",
    "# #                     'business-insider',\n",
    "# #                     'al-jazeera-english',\n",
    "#                     \"associated-press\",\n",
    "#                     'abc-news',\n",
    "#                      'nbc-news',\n",
    "#                      'national-review',\n",
    "#                      'the-hill',\n",
    "#                      \"the-globe-and-mail\",\n",
    "#                      'fox-news',\n",
    "#                      'msnbc',\n",
    "#                      'fortune',\n",
    "#                      'cnbc',\n",
    "# #                     'google-news' \n",
    "#                     ]\n",
    "\n",
    "# new_sources"
   ]
  },
  {
   "cell_type": "code",
   "execution_count": null,
   "metadata": {
    "scrolled": true
   },
   "outputs": [],
   "source": [
    "# First Attempt\n",
    "# Iterate newsapi by news Source and then by date\n",
    "# grab news files for news source _ date\n",
    "# mySources = new_sources\n",
    "\n",
    "# basePath = \"../newsdata\"\n",
    "# Path(basePath).mkdir(parents=True, exist_ok=True)\n",
    "\n",
    "# for source in mySources:\n",
    "#     for myDate in dateList:\n",
    "#         dirPath = basePath + \"/\" + myDate\n",
    "#         Path(dirPath).mkdir(parents=True, exist_ok=True)\n",
    "    \n",
    "#         filename = f\"{source}_{myDate}.json\"\n",
    "#         filepath = dirPath + \"/\" + filename\n",
    "#         print(f\"Scraping news for {filepath}\")\n",
    "        \n",
    "#         scraped_news = newsapi.get_everything(q='coronavirus',\n",
    "#                                           sources=source,\n",
    "#                                           from_param=myDate,\n",
    "#                                           to=myDate,\n",
    "#                                           language='en',\n",
    "#                                           sort_by='publishedAt',\n",
    "#                                           page_size=100)\n",
    "\n",
    "\n",
    "#         with open(filepath, \"w\") as outfile:\n",
    "#             json.dump(scraped_news, outfile, indent=4)\n"
   ]
  },
  {
   "cell_type": "code",
   "execution_count": null,
   "metadata": {},
   "outputs": [],
   "source": []
  },
  {
   "cell_type": "code",
   "execution_count": null,
   "metadata": {},
   "outputs": [],
   "source": []
  },
  {
   "cell_type": "code",
   "execution_count": null,
   "metadata": {},
   "outputs": [],
   "source": [
    "# Test the API before running\n",
    "# myDate = '2020-02-24'\n",
    "# mySource = 'bbc-news'\n",
    "# scraped_news = newsapi.get_everything(q='coronavirus',\n",
    "#                                       sources=mySource,\n",
    "#                                       from_param=myDate,\n",
    "#                                       to=myDate,\n",
    "#                                       language='en',\n",
    "#                                       sort_by='publishedAt',\n",
    "#                                       page_size=100)\n",
    "\n",
    "# print(scraped_news)\n",
    "\n",
    "# with open(\"test.json\", \"w\") as outfile:\n",
    "#     json.dump(scraped_news, outfile, indent=4)"
   ]
  },
  {
   "cell_type": "code",
   "execution_count": null,
   "metadata": {},
   "outputs": [],
   "source": [
    "# myDate = '2020-02-24'\n",
    "# mySource = 'bbc-news'\n",
    "# bbc_news = newsapi.get_everything(q='coronavirus',\n",
    "#                                       sources=mySource,\n",
    "#                                       from_param=myDate,\n",
    "#                                       to=myDate,\n",
    "#                                       language='en',\n",
    "#                                       sort_by='relevancy',\n",
    "#                                       page_size=100)\n",
    "\n",
    "# print(scraped_news)\n",
    "\n",
    "# with open(\"test.json\", \"w\") as outfile:\n",
    "#     json.dump(scraped_news, outfile, indent=4)"
   ]
  },
  {
   "cell_type": "code",
   "execution_count": null,
   "metadata": {},
   "outputs": [],
   "source": [
    "# myDate = '2020-02-24'\n",
    "# mySource = 'bbc-news'\n",
    "# bbc_news = newsapi.get_everything(q='coronavirus',\n",
    "#                                       sources=mySource,\n",
    "#                                       from_param=myDate,\n",
    "#                                       to=myDate,\n",
    "#                                       language='en',\n",
    "#                                       sort_by='popularity',\n",
    "#                                       page_size=100)\n",
    "\n",
    "# print(scraped_news)\n",
    "\n",
    "# with open(\"test.json\", \"w\") as outfile:\n",
    "#     json.dump(scraped_news, outfile, indent=4)"
   ]
  },
  {
   "cell_type": "code",
   "execution_count": null,
   "metadata": {},
   "outputs": [],
   "source": [
    "mySource\n"
   ]
  }
 ],
 "metadata": {
  "kernelspec": {
   "display_name": "Python [conda env:PythonData] *",
   "language": "python",
   "name": "conda-env-PythonData-py"
  },
  "language_info": {
   "codemirror_mode": {
    "name": "ipython",
    "version": 3
   },
   "file_extension": ".py",
   "mimetype": "text/x-python",
   "name": "python",
   "nbconvert_exporter": "python",
   "pygments_lexer": "ipython3",
   "version": "3.6.9"
  }
 },
 "nbformat": 4,
 "nbformat_minor": 2
}
